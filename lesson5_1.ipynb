{
 "cells": [
  {
   "cell_type": "code",
   "execution_count": 4,
   "metadata": {},
   "outputs": [
    {
     "name": "stdout",
     "output_type": "stream",
     "text": [
      "你的身高160\n",
      "你的體重54\n",
      "你的BMI值21.09\n",
      "提示:正常範圍\n"
     ]
    }
   ],
   "source": [
    "chinese = int(input(\"請輸入國文分數:\"))\n",
    "math = int(input(\"請輸入數學分數:\"))\n",
    "#巢狀判斷\n",
    "bouns = 0\n",
    "if chinese == 100:\n",
    "    if math == 100:\n",
    "        bouns = 1000\n",
    "    else:\n",
    "        bouns = 500\n",
    "elif math == 100:\n",
    "        bouns = 500\n",
    "\n",
    "print(f\"獎金:{bouns}\")\n",
    "\n",
    "\n"
   ]
  },
  {
   "cell_type": "code",
   "execution_count": null,
   "metadata": {},
   "outputs": [],
   "source": [
    "chinese = int(input(\"請輸入國文分數:\"))\n",
    "math = int(input(\"請輸入數學分數:\"))\n",
    "#使用邏輯運算子\n",
    "bouns = 0\n",
    "#嚴格的，寫在上面\n",
    "if chinese == 100 and math == 100:\n",
    "     bouns = 1000\n",
    "elif chinese == 100 or math == 100:\n",
    "     bouns = 500\n",
    "# else:\n",
    "#     bouns = 0\n",
    "\n",
    "print(f\"獎金:{bouns}\")"
   ]
  },
  {
   "cell_type": "code",
   "execution_count": null,
   "metadata": {},
   "outputs": [],
   "source": [
    "presure = int(input(\"請輸入血壓值：\"))\n",
    "if presure >= 80  and presure <= 120:\n",
    "    print(\"血壓正常\")\n",
    "else:\n",
    "    print(\"血壓不正常\")"
   ]
  },
  {
   "cell_type": "code",
   "execution_count": null,
   "metadata": {},
   "outputs": [],
   "source": [
    "presure = int(input(\"請輸入血壓值：\"))\n",
    "if presure < 80  or presure > 120:\n",
    "    print(\"血壓不正常\")\n",
    "else:\n",
    "    print(\"血壓正常\")"
   ]
  },
  {
   "cell_type": "code",
   "execution_count": null,
   "metadata": {},
   "outputs": [],
   "source": [
    "#BMI計算後分析\n",
    "height = int(input(\"請輸入身高，單位為公分\"))\n",
    "weight = int(input(\"請輸入體重，單位為公斤\"))\n",
    "bmi = weight / (height/100) ** 2\n",
    "suggest = \"\"\n",
    "\n",
    "if bmi < 18:\n",
    "    suggest= \"體重過輕\"\n",
    "elif bmi < 24.5:\n",
    "    suggest =\"正常範圍\"\n",
    "elif bmi < 27:\n",
    "    suggest =\"過重\"\n",
    "elif bmi < 30:\n",
    "    suggest =\"輕度肥胖\"\n",
    "elif bmi < 35:\n",
    "    suggest =\"中度肥胖\"\n",
    "else:\n",
    "    suggest = \"重度肥胖\"\n",
    "\n",
    "print(f\"你的身高{height}\")\n",
    "print(f\"你的體重{weight}\")\n",
    "# print(f\"你的BMI值{bmi:.2f}\") #強制輸出浮點數小數點兩位\n",
    "print(f\"你的BMI值{round(bmi,ndigits=2)}\")  #round 四捨五入 ，ndigits 取兩位\n",
    "print(f\"提示:{suggest}\")"
   ]
  },
  {
   "cell_type": "code",
   "execution_count": 6,
   "metadata": {},
   "outputs": [
    {
     "name": "stdout",
     "output_type": "stream",
     "text": [
      "1\n",
      "2\n",
      "3\n",
      "4\n",
      "5\n",
      "6\n",
      "7\n",
      "8\n",
      "9\n"
     ]
    }
   ],
   "source": [
    "for i in range(1,10):\n",
    "    print(i)\n"
   ]
  },
  {
   "cell_type": "code",
   "execution_count": 8,
   "metadata": {},
   "outputs": [
    {
     "name": "stdout",
     "output_type": "stream",
     "text": [
      "1\n",
      "3\n"
     ]
    }
   ],
   "source": [
    "for i in range(1,5,2): #範圍1~5，每次遞增兩位\n",
    "    print(i)"
   ]
  },
  {
   "cell_type": "code",
   "execution_count": 2,
   "metadata": {},
   "outputs": [
    {
     "name": "stdout",
     "output_type": "stream",
     "text": [
      "1加到101的數值是:5050\n"
     ]
    }
   ],
   "source": [
    "total = 0\n",
    "for i in range(1,101):\n",
    "    total += i   #total = total + i\n",
    "\n",
    "print(f\"1加到101的數值是:{total}\")"
   ]
  },
  {
   "cell_type": "code",
   "execution_count": 5,
   "metadata": {},
   "outputs": [
    {
     "name": "stdout",
     "output_type": "stream",
     "text": [
      "1到50加總的數值是:1275\n"
     ]
    }
   ],
   "source": [
    "start = int(input(\"開始的數值:\"))\n",
    "end = int(input(\"結束的數值:\"))\n",
    "total = 0\n",
    "for i in range(start,end+1):\n",
    "    total += i\n",
    "\n",
    "print(f\"{start}加到{end}的加總數值是:{total}\")"
   ]
  },
  {
   "cell_type": "code",
   "execution_count": null,
   "metadata": {},
   "outputs": [],
   "source": []
  },
  {
   "cell_type": "code",
   "execution_count": 13,
   "metadata": {},
   "outputs": [
    {
     "name": "stdout",
     "output_type": "stream",
     "text": [
      "1加到100，偶數的加總:2550\n",
      "1加到100，奇數的加總:2500\n"
     ]
    }
   ],
   "source": [
    "#1~100,偶數的加總\n",
    "#1~100,奇數的加總\n",
    "eventotal = 0\n",
    "oddtotal = 0\n",
    "total = 0\n",
    "for i in range(1,101):\n",
    "    if i % 2 == 0: #如何i除以2的餘數，等於0\n",
    "        eventotal += i\n",
    "    else:\n",
    "        oddtotal += i\n",
    "\n",
    "print(f\"1加到100，偶數的加總:{eventotal}\")\n",
    "print(f\"1加到100，奇數的加總:{oddtotal}\")"
   ]
  }
 ],
 "metadata": {
  "kernelspec": {
   "display_name": "Python 3",
   "language": "python",
   "name": "python3"
  },
  "language_info": {
   "codemirror_mode": {
    "name": "ipython",
    "version": 3
   },
   "file_extension": ".py",
   "mimetype": "text/x-python",
   "name": "python",
   "nbconvert_exporter": "python",
   "pygments_lexer": "ipython3",
   "version": "3.10.12"
  },
  "orig_nbformat": 4
 },
 "nbformat": 4,
 "nbformat_minor": 2
}
