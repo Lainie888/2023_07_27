{
 "cells": [
  {
   "cell_type": "code",
   "execution_count": 2,
   "metadata": {},
   "outputs": [
    {
     "name": "stdout",
     "output_type": "stream",
     "text": [
      "你的身高160\n",
      "你的體重54\n",
      "你的BMI值21.093749999999996\n",
      "提示:正常範圍\n"
     ]
    }
   ],
   "source": [
    "# chinese = int(input(\"請輸入國文分數:\"))\n",
    "# math = int(input(\"請輸入數學分數:\"))\n",
    "# #巢狀判斷\n",
    "# bouns = 0\n",
    "# if chinese == 100:\n",
    "#     if math == 100:\n",
    "#         bouns = 1000\n",
    "#     else:\n",
    "#         bouns = 500\n",
    "# elif math == 100:\n",
    "#         bouns = 500\n",
    "\n",
    "# print(f\"獎金:{bouns}\")\n",
    "\n",
    "\n",
    "\n",
    "\n",
    "\n",
    "# chinese = int(input(\"請輸入國文分數:\"))\n",
    "# math = int(input(\"請輸入數學分數:\"))\n",
    "# #使用邏輯運算子\n",
    "# bouns = 0\n",
    "# #嚴格的，寫在上面\n",
    "# if chinese == 100 and math == 100:\n",
    "#      bouns = 1000\n",
    "# elif chinese == 100 or math == 100:\n",
    "#      bouns = 500\n",
    "# # else:\n",
    "# #     bouns = 0\n",
    "\n",
    "# print(f\"獎金:{bouns}\")\n",
    "\n",
    "\n",
    "\n",
    "# presure = int(input(\"請輸入血壓值：\"))\n",
    "# if presure >= 80  and presure <= 120:\n",
    "#     print(\"血壓正常\")\n",
    "# else:\n",
    "#     print(\"血壓不正常\")\n",
    "\n",
    "\n",
    "\n",
    "# presure = int(input(\"請輸入血壓值：\"))\n",
    "# if presure < 80  or presure > 120:\n",
    "#     print(\"血壓不正常\")\n",
    "# else:\n",
    "#     print(\"血壓正常\")\n",
    "\n",
    "\n",
    "\n",
    "#BMI計算後分析\n",
    "height = int(input(\"請輸入身高，單位為公分\"))\n",
    "weight = int(input(\"請輸入體重，單位為公斤\"))\n",
    "bmi = weight / (height/100) ** 2\n",
    "suggest = \"\"\n",
    "\n",
    "if bmi < 18:\n",
    "    suggest= \"體重過輕\"\n",
    "elif bmi < 24.5:\n",
    "    suggest =\"正常範圍\"\n",
    "else:\n",
    "    suggest = \"重度肥胖\"\n",
    "\n",
    "print(f\"你的身高{height}\")\n",
    "print(f\"你的體重{weight}\")\n",
    "print(f\"你的BMI值{bmi}\")\n",
    "print(f\"提示:{suggest}\")"
   ]
  }
 ],
 "metadata": {
  "kernelspec": {
   "display_name": "Python 3",
   "language": "python",
   "name": "python3"
  },
  "language_info": {
   "codemirror_mode": {
    "name": "ipython",
    "version": 3
   },
   "file_extension": ".py",
   "mimetype": "text/x-python",
   "name": "python",
   "nbconvert_exporter": "python",
   "pygments_lexer": "ipython3",
   "version": "3.10.12"
  },
  "orig_nbformat": 4
 },
 "nbformat": 4,
 "nbformat_minor": 2
}
