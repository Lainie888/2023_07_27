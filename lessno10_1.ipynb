{
 "cells": [
  {
   "cell_type": "code",
   "execution_count": null,
   "metadata": {},
   "outputs": [],
   "source": [
    "with open(\"names.txt\", encoding=\"utf-8\") as file:\n",
    "    names = file.read()\n",
    "\n",
    "names.split(\"\\n\")\n",
    "names_list = names.split(\"\\n\")\n",
    "for i in names_list:\n",
    "    print(i)\n"
   ]
  },
  {
   "cell_type": "code",
   "execution_count": 17,
   "metadata": {},
   "outputs": [
    {
     "data": {
      "text/plain": [
       "(['陳怡伶', '馮芳如', '蒙淑惠', '張軒宸', '陳向愛'], ['李淑芳', '謝南慧', '趙家豪', '龐皓芳', '張彥博'], 299)"
      ]
     },
     "execution_count": 17,
     "metadata": {},
     "output_type": "execute_result"
    }
   ],
   "source": [
    "names_list[:5], names_list[-5:], len(names_list)"
   ]
  },
  {
   "cell_type": "code",
   "execution_count": null,
   "metadata": {},
   "outputs": [],
   "source": [
    "with open(\"names.txt\", encoding=\"utf-8\") as file:\n",
    "    names_list = []\n",
    "    for i in file:\n",
    "        names_list.append(i[:3])\n",
    "\n",
    "file.closed\n",
    "names_list"
   ]
  },
  {
   "cell_type": "code",
   "execution_count": 27,
   "metadata": {},
   "outputs": [
    {
     "data": {
      "text/plain": [
       "299"
      ]
     },
     "execution_count": 27,
     "metadata": {},
     "output_type": "execute_result"
    }
   ],
   "source": [
    "len(names_list)"
   ]
  },
  {
   "cell_type": "code",
   "execution_count": 60,
   "metadata": {},
   "outputs": [
    {
     "name": "stdout",
     "output_type": "stream",
     "text": [
      "lin振瑋\n",
      "lin建宏\n",
      "lin重意\n",
      "lin冠蕙\n",
      "lin冠霞\n",
      "lin義皓\n",
      "lin凡成\n",
      "lin士銘\n"
     ]
    }
   ],
   "source": [
    "import random\n",
    "first_name = input(\"請輸入你的姓:\")\n",
    "count = int(input(\"請輸入你要的筆數:\"))\n",
    "random_names = random.choices(names_list, k= count) #隨機抓5個\n",
    "for i in random_names:\n",
    "    print(first_name + i[-2:])"
   ]
  },
  {
   "cell_type": "code",
   "execution_count": null,
   "metadata": {},
   "outputs": [],
   "source": []
  }
 ],
 "metadata": {
  "kernelspec": {
   "display_name": "Python 3",
   "language": "python",
   "name": "python3"
  },
  "language_info": {
   "codemirror_mode": {
    "name": "ipython",
    "version": 3
   },
   "file_extension": ".py",
   "mimetype": "text/x-python",
   "name": "python",
   "nbconvert_exporter": "python",
   "pygments_lexer": "ipython3",
   "version": "3.10.11"
  },
  "orig_nbformat": 4
 },
 "nbformat": 4,
 "nbformat_minor": 2
}
