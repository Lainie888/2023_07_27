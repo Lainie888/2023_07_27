{
 "cells": [
  {
   "cell_type": "code",
   "execution_count": 64,
   "metadata": {},
   "outputs": [],
   "source": [
    "class Student:\n",
    "    def  __init__(self,name:str,chinese:int,english:int,math:int):\n",
    "        self.name = name\n",
    "        self.chinese = chinese\n",
    "        self.english = english\n",
    "        self.math = math\n",
    "\n",
    "    #實體方法method\n",
    "    def total(self) ->int:\n",
    "        return self.chinese + self.english + self.math\n",
    "\n",
    "    #建立property->類似method,沒有參數,一定傳出一個值\n",
    "    @property\n",
    "    def average(self) ->float:\n",
    "        return self.total() / 3.0\n",
    "\n",
    "    def __repr__(self):\n",
    "        return f\"我是student實體，我的name:{self.name}\""
   ]
  },
  {
   "cell_type": "code",
   "execution_count": 65,
   "metadata": {},
   "outputs": [
    {
     "data": {
      "text/plain": [
       "('Lainie', 75, 93, 82)"
      ]
     },
     "metadata": {},
     "output_type": "display_data"
    },
    {
     "data": {
      "text/plain": [
       "(250, 83.33333333333333)"
      ]
     },
     "metadata": {},
     "output_type": "display_data"
    },
    {
     "name": "stdout",
     "output_type": "stream",
     "text": [
      "我是student實體，我的name:Lainie\n"
     ]
    }
   ],
   "source": [
    "stu1 = Student(\"Lainie\",75, 93, 82)\n",
    "display((stu1.name, stu1.chinese, stu1.english, stu1.math))\n",
    "display((stu1.total(), stu1.average))\n",
    "print(stu1)"
   ]
  },
  {
   "cell_type": "code",
   "execution_count": 66,
   "metadata": {},
   "outputs": [
    {
     "data": {
      "text/plain": [
       "('wxx', 95, 63, 82)"
      ]
     },
     "metadata": {},
     "output_type": "display_data"
    },
    {
     "data": {
      "text/plain": [
       "(240, 80.0)"
      ]
     },
     "metadata": {},
     "output_type": "display_data"
    },
    {
     "name": "stdout",
     "output_type": "stream",
     "text": [
      "我是student實體，我的name:wxx\n"
     ]
    }
   ],
   "source": [
    "stu2 = Student(\"wxx\",95, 63, 82)\n",
    "display((stu2.name, stu2.chinese, stu2.english, stu2.math))\n",
    "display((stu2.total(), stu2.average))\n",
    "print(stu2)"
   ]
  },
  {
   "cell_type": "code",
   "execution_count": 67,
   "metadata": {},
   "outputs": [
    {
     "data": {
      "text/plain": [
       "('Lainie', 'wxx')"
      ]
     },
     "execution_count": 67,
     "metadata": {},
     "output_type": "execute_result"
    }
   ],
   "source": [
    "stu1.name, stu2.name"
   ]
  },
  {
   "cell_type": "code",
   "execution_count": null,
   "metadata": {},
   "outputs": [],
   "source": []
  }
 ],
 "metadata": {
  "kernelspec": {
   "display_name": "Python 3",
   "language": "python",
   "name": "python3"
  },
  "language_info": {
   "codemirror_mode": {
    "name": "ipython",
    "version": 3
   },
   "file_extension": ".py",
   "mimetype": "text/x-python",
   "name": "python",
   "nbconvert_exporter": "python",
   "pygments_lexer": "ipython3",
   "version": "3.10.11"
  },
  "orig_nbformat": 4
 },
 "nbformat": 4,
 "nbformat_minor": 2
}
