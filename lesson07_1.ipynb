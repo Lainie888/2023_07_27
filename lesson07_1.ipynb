{
 "cells": [
  {
   "cell_type": "code",
   "execution_count": 1,
   "metadata": {},
   "outputs": [
    {
     "name": "stdout",
     "output_type": "stream",
     "text": [
      "quack\n"
     ]
    }
   ],
   "source": [
    "#沒有參數，也沒有傳出值的function ，沒有傳出值不需寫return\n",
    "def make_a_sound():\n",
    "    print(\"quack\")\n",
    "\n",
    "make_a_sound()"
   ]
  },
  {
   "cell_type": "code",
   "execution_count": 5,
   "metadata": {},
   "outputs": [
    {
     "name": "stdout",
     "output_type": "stream",
     "text": [
      "3 + 8 = 11\n",
      "3 * 8 = 24\n"
     ]
    }
   ],
   "source": [
    "#可以定義很多個參數\n",
    "def add(first,second):\n",
    "    print(f\"{first} + {second} = {first + second}\")\n",
    "\n",
    "#引數值的呼叫\n",
    "add(3,8)\n",
    "\n",
    "def multiple(first,second):\n",
    "    print(f\"{first} * {second} = {first * second}\")\n",
    "\n",
    "multiple(3, 8) #空格不影響"
   ]
  },
  {
   "cell_type": "code",
   "execution_count": 6,
   "metadata": {},
   "outputs": [
    {
     "name": "stdout",
     "output_type": "stream",
     "text": [
      "3 + 8 = 11\n",
      "3 * 8 = 24\n"
     ]
    }
   ],
   "source": [
    "#引數名稱的呼叫，可以不依順序\n",
    "add(first=3,second=8)\n",
    "multiple(second=8,first=3) #使用引數名稱呼叫，後面就不可以引數值呼叫\n"
   ]
  },
  {
   "cell_type": "code",
   "execution_count": 7,
   "metadata": {},
   "outputs": [
    {
     "name": "stdout",
     "output_type": "stream",
     "text": [
      "3 + 8 = 11\n",
      "3 * 8 = 24\n"
     ]
    }
   ],
   "source": [
    "#混合呼叫，前面用引數值呼叫，後面用引數名稱呼叫\n",
    "add(3,second=8)\n",
    "multiple(3,second=8)"
   ]
  },
  {
   "cell_type": "code",
   "execution_count": 8,
   "metadata": {},
   "outputs": [
    {
     "name": "stdout",
     "output_type": "stream",
     "text": [
      "國文:79,英文:80,數學:92\n"
     ]
    }
   ],
   "source": [
    "#參數沒有defaultPje \n",
    "def scores(chinese,english,math):\n",
    "    print(f\"國文:{chinese},英文:{english},數學:{math}\")\n",
    "\n",
    "scores(79,80,math=92)"
   ]
  },
  {
   "cell_type": "code",
   "execution_count": 12,
   "metadata": {},
   "outputs": [
    {
     "name": "stdout",
     "output_type": "stream",
     "text": [
      "國文:89,英文:60,數學:60\n",
      "國文:90,英文:60,數學:89\n",
      "國文:75,英文:95,數學:45\n"
     ]
    }
   ],
   "source": [
    "#參數有default,一定放在最後\n",
    "def scores1(chinese, english=60, math=60):\n",
    "    print(f\"國文:{chinese},英文:{english},數學:{math}\")\n",
    "\n",
    "scores1(89)\n",
    "scores1(90,math=89)\n",
    "scores1(75,math=45,english=95)"
   ]
  },
  {
   "cell_type": "code",
   "execution_count": null,
   "metadata": {},
   "outputs": [],
   "source": []
  }
 ],
 "metadata": {
  "kernelspec": {
   "display_name": "Python 3",
   "language": "python",
   "name": "python3"
  },
  "language_info": {
   "codemirror_mode": {
    "name": "ipython",
    "version": 3
   },
   "file_extension": ".py",
   "mimetype": "text/x-python",
   "name": "python",
   "nbconvert_exporter": "python",
   "pygments_lexer": "ipython3",
   "version": "3.10.12"
  },
  "orig_nbformat": 4
 },
 "nbformat": 4,
 "nbformat_minor": 2
}
