// a=17
// if a > 18:
//     print("您的age:")
//     print("18")

// print("程式結束")

// import sympy
// import numpy

// numpy.arange(1000)