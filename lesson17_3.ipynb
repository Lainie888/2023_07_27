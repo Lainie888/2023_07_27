{
 "cells": [
  {
   "cell_type": "code",
   "execution_count": null,
   "metadata": {},
   "outputs": [],
   "source": [
    "import pandas as pd\n",
    "df = pd.read_csv(\"學生成績.csv\")\n",
    "df[\"國文\"]"
   ]
  },
  {
   "cell_type": "code",
   "execution_count": 3,
   "metadata": {},
   "outputs": [
    {
     "data": {
      "text/plain": [
       "學號       3\n",
       "姓名     游倫城\n",
       "國文      54\n",
       "英文      67\n",
       "數學      64\n",
       "地理      60\n",
       "歷史      98\n",
       "總分     343\n",
       "平均    68.6\n",
       "Name: 2, dtype: object"
      ]
     },
     "execution_count": 3,
     "metadata": {},
     "output_type": "execute_result"
    }
   ],
   "source": [
    "df.iloc[2]"
   ]
  },
  {
   "cell_type": "code",
   "execution_count": 6,
   "metadata": {},
   "outputs": [
    {
     "data": {
      "text/html": [
       "<div>\n",
       "<style scoped>\n",
       "    .dataframe tbody tr th:only-of-type {\n",
       "        vertical-align: middle;\n",
       "    }\n",
       "\n",
       "    .dataframe tbody tr th {\n",
       "        vertical-align: top;\n",
       "    }\n",
       "\n",
       "    .dataframe thead th {\n",
       "        text-align: right;\n",
       "    }\n",
       "</style>\n",
       "<table border=\"1\" class=\"dataframe\">\n",
       "  <thead>\n",
       "    <tr style=\"text-align: right;\">\n",
       "      <th></th>\n",
       "      <th>學號</th>\n",
       "      <th>姓名</th>\n",
       "      <th>國文</th>\n",
       "      <th>英文</th>\n",
       "      <th>數學</th>\n",
       "      <th>地理</th>\n",
       "      <th>歷史</th>\n",
       "      <th>總分</th>\n",
       "      <th>平均</th>\n",
       "    </tr>\n",
       "  </thead>\n",
       "  <tbody>\n",
       "    <tr>\n",
       "      <th>0</th>\n",
       "      <td>1</td>\n",
       "      <td>錢欣潔</td>\n",
       "      <td>79</td>\n",
       "      <td>66</td>\n",
       "      <td>64</td>\n",
       "      <td>100</td>\n",
       "      <td>73</td>\n",
       "      <td>382</td>\n",
       "      <td>76.4</td>\n",
       "    </tr>\n",
       "    <tr>\n",
       "      <th>1</th>\n",
       "      <td>2</td>\n",
       "      <td>楊綺芬</td>\n",
       "      <td>66</td>\n",
       "      <td>68</td>\n",
       "      <td>89</td>\n",
       "      <td>97</td>\n",
       "      <td>86</td>\n",
       "      <td>406</td>\n",
       "      <td>81.2</td>\n",
       "    </tr>\n",
       "    <tr>\n",
       "      <th>2</th>\n",
       "      <td>3</td>\n",
       "      <td>游倫城</td>\n",
       "      <td>54</td>\n",
       "      <td>67</td>\n",
       "      <td>64</td>\n",
       "      <td>60</td>\n",
       "      <td>98</td>\n",
       "      <td>343</td>\n",
       "      <td>68.6</td>\n",
       "    </tr>\n",
       "  </tbody>\n",
       "</table>\n",
       "</div>"
      ],
      "text/plain": [
       "   學號   姓名  國文  英文  數學   地理  歷史   總分    平均\n",
       "0   1  錢欣潔  79  66  64  100  73  382  76.4\n",
       "1   2  楊綺芬  66  68  89   97  86  406  81.2\n",
       "2   3  游倫城  54  67  64   60  98  343  68.6"
      ]
     },
     "execution_count": 6,
     "metadata": {},
     "output_type": "execute_result"
    }
   ],
   "source": [
    "df[:3] #抓前三筆資料"
   ]
  },
  {
   "cell_type": "code",
   "execution_count": 11,
   "metadata": {},
   "outputs": [
    {
     "data": {
      "text/plain": [
       "0     錢欣潔\n",
       "1     楊綺芬\n",
       "2     游倫城\n",
       "3     陳彥治\n",
       "4     蔡世馨\n",
       "5     陳逸華\n",
       "6     高士凱\n",
       "7     王泓泰\n",
       "8     陳奇瑄\n",
       "9     鄭奇翰\n",
       "10    蔡士賢\n",
       "11    楊又源\n",
       "12    郭淑枝\n",
       "13    龔姵君\n",
       "14    吳麗卿\n",
       "15    郎慧萍\n",
       "16    陳彥治\n",
       "17    游一鈺\n",
       "18    李慶亮\n",
       "19    郭淑枝\n",
       "20    黃江旭\n",
       "21    郭坤花\n",
       "22    吳欣書\n",
       "23    蘇婷婷\n",
       "24    白美珍\n",
       "25    張莉雯\n",
       "26    黃心航\n",
       "27    黃詩妃\n",
       "28    蕭淑華\n",
       "29    林淑安\n",
       "30    李美洋\n",
       "31    黃詩妃\n",
       "32    尚偉倫\n",
       "33    白世宏\n",
       "34    聶心怡\n",
       "35    郎慧萍\n",
       "36    陳姵彬\n",
       "37    林希啟\n",
       "38    呂傑宣\n",
       "39    梁柏宇\n",
       "40    張雅芬\n",
       "41    張彥博\n",
       "42    黃名明\n",
       "43    黃靜怡\n",
       "44    盧必妍\n",
       "45    陳建香\n",
       "46    王志謙\n",
       "47    吳俐芷\n",
       "48    陳冠竹\n",
       "49    林詠斌\n",
       "Name: 姓名, dtype: object"
      ]
     },
     "execution_count": 11,
     "metadata": {},
     "output_type": "execute_result"
    }
   ],
   "source": [
    "import pandas as pd\n",
    "df = pd.read_csv(\"學生成績.csv\")\n",
    "#DataFrame 的 subscript\n",
    "name_s = df[\"姓名\"] #直接抓欄位名稱，會跑出Series資料\n",
    "name_s\n",
    "\n"
   ]
  },
  {
   "cell_type": "code",
   "execution_count": 17,
   "metadata": {},
   "outputs": [
    {
     "data": {
      "text/plain": [
       "0     錢欣潔\n",
       "1     楊綺芬\n",
       "2     游倫城\n",
       "3     陳彥治\n",
       "4     蔡世馨\n",
       "5     陳逸華\n",
       "6     高士凱\n",
       "7     王泓泰\n",
       "8     陳奇瑄\n",
       "9     鄭奇翰\n",
       "10    蔡士賢\n",
       "11    楊又源\n",
       "12    郭淑枝\n",
       "13    龔姵君\n",
       "14    吳麗卿\n",
       "15    郎慧萍\n",
       "16    陳彥治\n",
       "17    游一鈺\n",
       "18    李慶亮\n",
       "19    郭淑枝\n",
       "20    黃江旭\n",
       "21    郭坤花\n",
       "22    吳欣書\n",
       "23    蘇婷婷\n",
       "24    白美珍\n",
       "25    張莉雯\n",
       "26    黃心航\n",
       "27    黃詩妃\n",
       "28    蕭淑華\n",
       "29    林淑安\n",
       "30    李美洋\n",
       "31    黃詩妃\n",
       "32    尚偉倫\n",
       "33    白世宏\n",
       "34    聶心怡\n",
       "35    郎慧萍\n",
       "36    陳姵彬\n",
       "37    林希啟\n",
       "38    呂傑宣\n",
       "39    梁柏宇\n",
       "40    張雅芬\n",
       "41    張彥博\n",
       "42    黃名明\n",
       "43    黃靜怡\n",
       "44    盧必妍\n",
       "45    陳建香\n",
       "46    王志謙\n",
       "47    吳俐芷\n",
       "48    陳冠竹\n",
       "49    林詠斌\n",
       "Name: 姓名, dtype: object"
      ]
     },
     "metadata": {},
     "output_type": "display_data"
    },
    {
     "data": {
      "text/plain": [
       "'錢欣潔'"
      ]
     },
     "metadata": {},
     "output_type": "display_data"
    },
    {
     "name": "stdout",
     "output_type": "stream",
     "text": [
      "==============\n"
     ]
    },
    {
     "data": {
      "text/plain": [
       "0    錢欣潔\n",
       "1    楊綺芬\n",
       "2    游倫城\n",
       "Name: 姓名, dtype: object"
      ]
     },
     "metadata": {},
     "output_type": "display_data"
    },
    {
     "name": "stdout",
     "output_type": "stream",
     "text": [
      "==============\n"
     ]
    },
    {
     "data": {
      "text/plain": [
       "47    吳俐芷\n",
       "48    陳冠竹\n",
       "49    林詠斌\n",
       "Name: 姓名, dtype: object"
      ]
     },
     "metadata": {},
     "output_type": "display_data"
    },
    {
     "name": "stdout",
     "output_type": "stream",
     "text": [
      "==============\n"
     ]
    },
    {
     "data": {
      "text/plain": [
       "0    錢欣潔\n",
       "5    陳逸華\n",
       "8    陳奇瑄\n",
       "Name: 姓名, dtype: object"
      ]
     },
     "metadata": {},
     "output_type": "display_data"
    }
   ],
   "source": [
    "#Series 的 subscript\n",
    "display(name_s) \n",
    "display(name_s[0])\n",
    "print(\"==============\")\n",
    "display(name_s[0:3])\n",
    "print(\"==============\")\n",
    "display(name_s[-3:])\n",
    "print(\"==============\")\n",
    "display(name_s[[0, 5, 8]])"
   ]
  }
 ],
 "metadata": {
  "kernelspec": {
   "display_name": "Python 3",
   "language": "python",
   "name": "python3"
  },
  "language_info": {
   "codemirror_mode": {
    "name": "ipython",
    "version": 3
   },
   "file_extension": ".py",
   "mimetype": "text/x-python",
   "name": "python",
   "nbconvert_exporter": "python",
   "pygments_lexer": "ipython3",
   "version": "3.10.11"
  },
  "orig_nbformat": 4
 },
 "nbformat": 4,
 "nbformat_minor": 2
}
