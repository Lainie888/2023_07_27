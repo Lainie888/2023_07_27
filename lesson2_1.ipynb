{
 "cells": [
  {
   "cell_type": "code",
   "execution_count": 8,
   "metadata": {},
   "outputs": [
    {
     "name": "stdout",
     "output_type": "stream",
     "text": [
      "程式結束\n"
     ]
    }
   ],
   "source": [
    "# print(\"hello,world\")\n",
    "#高中數學\n",
    "#eval 浮點數、整數都可以\n",
    "# apple = 3\n",
    "# orange = 5\n",
    "\n",
    "import math\n",
    "side1 = eval(input(\"請輸入對邊:\"))\n",
    "side2 = eval(input(\"請輸入斜邊:\"))\n",
    "radian = math.asin(side1 / side2 ) #math.asin 弳度\n",
    "degree = math.degrees(radian) #math.degrees 角度轉換\n",
    "print(f\"對邊:{side1},斜邊:{side2},角度為:{degree:.2f}\") #只要小數點兩位\n",
    "# a=17\n",
    "# if a > 18:\n",
    "#     print(\"您的age:\")\n",
    "#     print(\"18\")\n",
    "\n",
    "# print(\"程式結束\")"
   ]
  }
 ],
 "metadata": {
  "kernelspec": {
   "display_name": "Python 3",
   "language": "python",
   "name": "python3"
  },
  "language_info": {
   "codemirror_mode": {
    "name": "ipython",
    "version": 3
   },
   "file_extension": ".py",
   "mimetype": "text/x-python",
   "name": "python",
   "nbconvert_exporter": "python",
   "pygments_lexer": "ipython3",
   "version": "3.10.12"
  },
  "orig_nbformat": 4
 },
 "nbformat": 4,
 "nbformat_minor": 2
}
