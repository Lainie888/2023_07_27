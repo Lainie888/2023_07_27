{
 "cells": [
  {
   "cell_type": "code",
   "execution_count": null,
   "metadata": {},
   "outputs": [],
   "source": [
    "import csv\n",
    "with open(\"個股日成交資訊.csv\", encoding=\"utf-8\", newline=\"\") as file:\n",
    "    csv_reader = csv.reader(file)\n",
    "    next(csv_reader)\n",
    "    #dictionary comprehension\n",
    "    all_list = [{\"證券代號\":item[0], \n",
    "                \"證券名稱\":item[1], \n",
    "                \"成交股數\":item[2], \n",
    "                \"成交金額\":item[3], \n",
    "                \"收盤價\":item[7], \n",
    "                \"漲跌價差\":item[8], \n",
    "                \"成交筆數\":item[9]} for item in csv_reader]\n",
    "\n",
    "all_list"
   ]
  },
  {
   "cell_type": "code",
   "execution_count": null,
   "metadata": {},
   "outputs": [],
   "source": [
    "import pandas as pd\n",
    "\n",
    "df = pd.DataFrame(all_list)\n",
    "df"
   ]
  },
  {
   "cell_type": "code",
   "execution_count": 4,
   "metadata": {},
   "outputs": [
    {
     "ename": "NameError",
     "evalue": "name 'get_names' is not defined",
     "output_type": "error",
     "traceback": [
      "\u001b[1;31m---------------------------------------------------------------------------\u001b[0m",
      "\u001b[1;31mNameError\u001b[0m                                 Traceback (most recent call last)",
      "\u001b[1;32mc:\\github\\2023_07_27\\test_lesson16_5.ipynb 儲存格 3\u001b[0m line \u001b[0;36m3\n\u001b[0;32m      <a href='vscode-notebook-cell:/c%3A/github/2023_07_27/test_lesson16_5.ipynb#W2sZmlsZQ%3D%3D?line=0'>1</a>\u001b[0m nums_int \u001b[39m=\u001b[39m \u001b[39mint\u001b[39m(\u001b[39minput\u001b[39m(\u001b[39m\"\u001b[39m\u001b[39m請輸入學生數:\u001b[39m\u001b[39m\"\u001b[39m))\n\u001b[0;32m      <a href='vscode-notebook-cell:/c%3A/github/2023_07_27/test_lesson16_5.ipynb#W2sZmlsZQ%3D%3D?line=1'>2</a>\u001b[0m \u001b[39m#取得nums_int個姓名\u001b[39;00m\n\u001b[1;32m----> <a href='vscode-notebook-cell:/c%3A/github/2023_07_27/test_lesson16_5.ipynb#W2sZmlsZQ%3D%3D?line=2'>3</a>\u001b[0m names_list \u001b[39m=\u001b[39m get_names(nums_int)\n\u001b[0;32m      <a href='vscode-notebook-cell:/c%3A/github/2023_07_27/test_lesson16_5.ipynb#W2sZmlsZQ%3D%3D?line=4'>5</a>\u001b[0m students \u001b[39m=\u001b[39m []\n\u001b[0;32m      <a href='vscode-notebook-cell:/c%3A/github/2023_07_27/test_lesson16_5.ipynb#W2sZmlsZQ%3D%3D?line=5'>6</a>\u001b[0m \u001b[39mfor\u001b[39;00m i \u001b[39min\u001b[39;00m \u001b[39mrange\u001b[39m(nums_int): \u001b[39m#變數【 _ 】為省略運算子\u001b[39;00m\n",
      "\u001b[1;31mNameError\u001b[0m: name 'get_names' is not defined"
     ]
    }
   ],
   "source": [
    "nums_int = int(input(\"請輸入學生數:\"))\n",
    "#取得nums_int個姓名\n",
    "names_list = get_names(nums_int)\n",
    "\n",
    "students = []\n",
    "for i in range(nums_int): #變數【 _ 】為省略運算子\n",
    "    scores = get_score() #宣告一個新的變數 = 上面的函式\n",
    "    new_list = [names_list[i]] + scores\n",
    "    students.append(new_list)\n",
    "students"
   ]
  }
 ],
 "metadata": {
  "kernelspec": {
   "display_name": "Python 3",
   "language": "python",
   "name": "python3"
  },
  "language_info": {
   "codemirror_mode": {
    "name": "ipython",
    "version": 3
   },
   "file_extension": ".py",
   "mimetype": "text/x-python",
   "name": "python",
   "nbconvert_exporter": "python",
   "pygments_lexer": "ipython3",
   "version": "3.10.11"
  },
  "orig_nbformat": 4
 },
 "nbformat": 4,
 "nbformat_minor": 2
}
