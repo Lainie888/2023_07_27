{
 "cells": [
  {
   "cell_type": "code",
   "execution_count": null,
   "metadata": {},
   "outputs": [],
   "source": [
    "import random\n",
    "def get_score() -> list:  #隨機跑5個分數\n",
    "    score = []\n",
    "    for i in range(5):\n",
    "        score.append(random.randint(50,100))\n",
    "    return score\n",
    "\n",
    "def get_names(nums:int) -> list:\n",
    "    with open(\"names.txt\",encoding=\"utf-8\",newline=\"\") as file:\n",
    "        names_str = file.read()\n",
    "        all_names_list = names_str.split(sep=\"\\n\")\n",
    "        names_list = random.choices(all_names_list,k=nums_int) #取出一定數量的姓名\n",
    "    return names_list\n",
    "\n",
    "nums_int = int(input(\"請輸入學生數:\"))\n",
    "#取得nums_int個姓名\n",
    "names_list = get_names(nums_int)\n",
    "\n",
    "students = []\n",
    "for i in range(nums_int): #變數【 _ 】為省略運算子\n",
    "    scores = get_score() #宣告一個新的變數 = 上面的函式\n",
    "    new_list = [names_list[i]] + scores\n",
    "    students.append(new_list)\n",
    "students"
   ]
  },
  {
   "cell_type": "code",
   "execution_count": null,
   "metadata": {},
   "outputs": [],
   "source": [
    "import pandas as pd\n",
    "\n",
    "students_df = pd.DataFrame(students, columns=[\"姓名\", \"國文\", \"英文\", \"數學\", \"地理\", \"歷史\"], index=range(1, nums_int+1))\n",
    "students_df\n"
   ]
  },
  {
   "cell_type": "code",
   "execution_count": null,
   "metadata": {},
   "outputs": [],
   "source": [
    "students_df.head(n=8)\n"
   ]
  },
  {
   "cell_type": "code",
   "execution_count": null,
   "metadata": {},
   "outputs": [],
   "source": [
    "students_df.tail(n=8)"
   ]
  },
  {
   "cell_type": "code",
   "execution_count": null,
   "metadata": {},
   "outputs": [],
   "source": [
    "students_df[\"姓名\"]"
   ]
  },
  {
   "cell_type": "code",
   "execution_count": null,
   "metadata": {},
   "outputs": [],
   "source": [
    "students_df.index.name =\"學號\"\n",
    "students_df.columns.name = \"科目\"\n",
    "students_df"
   ]
  },
  {
   "cell_type": "code",
   "execution_count": 26,
   "metadata": {},
   "outputs": [
    {
     "data": {
      "text/plain": [
       "學號\n",
       "1     382\n",
       "2     406\n",
       "3     343\n",
       "4     359\n",
       "5     391\n",
       "6     369\n",
       "7     368\n",
       "8     341\n",
       "9     391\n",
       "10    383\n",
       "11    323\n",
       "12    351\n",
       "13    332\n",
       "14    345\n",
       "15    400\n",
       "16    406\n",
       "17    402\n",
       "18    314\n",
       "19    342\n",
       "20    338\n",
       "21    375\n",
       "22    336\n",
       "23    373\n",
       "24    346\n",
       "25    364\n",
       "26    373\n",
       "27    375\n",
       "28    329\n",
       "29    360\n",
       "30    365\n",
       "31    377\n",
       "32    355\n",
       "33    440\n",
       "34    396\n",
       "35    384\n",
       "36    406\n",
       "37    380\n",
       "38    410\n",
       "39    440\n",
       "40    409\n",
       "41    401\n",
       "42    405\n",
       "43    342\n",
       "44    363\n",
       "45    345\n",
       "46    374\n",
       "47    360\n",
       "48    397\n",
       "49    305\n",
       "50    396\n",
       "dtype: int64"
      ]
     },
     "execution_count": 26,
     "metadata": {},
     "output_type": "execute_result"
    }
   ],
   "source": [
    "sum_series = students_df[\"國文\"] + students_df[\"英文\"] + students_df[\"數學\"] + students_df[\"歷史\"] + students_df[\"地理\"]\n",
    "sum_series"
   ]
  }
 ],
 "metadata": {
  "kernelspec": {
   "display_name": "Python 3",
   "language": "python",
   "name": "python3"
  },
  "language_info": {
   "codemirror_mode": {
    "name": "ipython",
    "version": 3
   },
   "file_extension": ".py",
   "mimetype": "text/x-python",
   "name": "python",
   "nbconvert_exporter": "python",
   "pygments_lexer": "ipython3",
   "version": "3.10.11"
  },
  "orig_nbformat": 4
 },
 "nbformat": 4,
 "nbformat_minor": 2
}
