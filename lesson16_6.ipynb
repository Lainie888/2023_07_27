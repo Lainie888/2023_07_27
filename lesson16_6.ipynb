{
 "cells": [
  {
   "cell_type": "code",
   "execution_count": null,
   "metadata": {},
   "outputs": [],
   "source": [
    "import random\n",
    "def get_score() -> list:  #隨機跑5個分數\n",
    "    score = []\n",
    "    for i in range(5):\n",
    "        score.append(random.randint(50,100))\n",
    "    return score\n",
    "\n",
    "def get_names(nums:int) -> list:\n",
    "    with open(\"names.txt\",encoding=\"utf-8\",newline=\"\") as file:\n",
    "        names_str = file.read()\n",
    "        all_names_list = names_str.split(sep=\"\\n\")\n",
    "        names_list = random.choices(all_names_list,k=nums_int) #取出一定數量的姓名\n",
    "    return names_list\n",
    "\n",
    "nums_int = int(input(\"請輸入學生數:\"))\n",
    "#取得nums_int個姓名\n",
    "names_list = get_names(nums_int)\n",
    "\n",
    "students = []\n",
    "for i in range(nums_int): #變數【 _ 】為省略運算子\n",
    "    scores = get_score() #宣告一個新的變數 = 上面的函式\n",
    "    new_list = [names_list[i]] + scores\n",
    "    students.append(new_list)\n",
    "students"
   ]
  },
  {
   "cell_type": "code",
   "execution_count": null,
   "metadata": {},
   "outputs": [],
   "source": [
    "import pandas as pd\n",
    "\n",
    "students_df = pd.DataFrame(students, columns=[\"姓名\", \"國文\", \"英文\", \"數學\", \"地理\", \"歷史\"], index=range(1, nums_int+1))\n",
    "students_df\n"
   ]
  },
  {
   "cell_type": "code",
   "execution_count": null,
   "metadata": {},
   "outputs": [],
   "source": [
    "students_df.head(n=8)\n"
   ]
  },
  {
   "cell_type": "code",
   "execution_count": null,
   "metadata": {},
   "outputs": [],
   "source": [
    "students_df.tail(n=8)"
   ]
  },
  {
   "cell_type": "code",
   "execution_count": null,
   "metadata": {},
   "outputs": [],
   "source": [
    "students_df[\"姓名\"]"
   ]
  },
  {
   "cell_type": "code",
   "execution_count": null,
   "metadata": {},
   "outputs": [],
   "source": [
    "students_df.index.name =\"學號\"\n",
    "students_df.columns.name = \"科目\"\n",
    "students_df"
   ]
  },
  {
   "cell_type": "code",
   "execution_count": null,
   "metadata": {},
   "outputs": [],
   "source": [
    "sum_series = students_df[\"國文\"] + students_df[\"英文\"] + students_df[\"數學\"] + students_df[\"歷史\"] + students_df[\"地理\"]\n",
    "sum_series"
   ]
  },
  {
   "cell_type": "code",
   "execution_count": null,
   "metadata": {},
   "outputs": [],
   "source": [
    "students_df[\"總分\"] = sum_series\n",
    "students_df[\"平均\"] = sum_series / 5.0\n",
    "students_df"
   ]
  },
  {
   "cell_type": "code",
   "execution_count": 34,
   "metadata": {},
   "outputs": [],
   "source": [
    "students_df.to_csv(\"學生成績.csv\")"
   ]
  }
 ],
 "metadata": {
  "kernelspec": {
   "display_name": "Python 3",
   "language": "python",
   "name": "python3"
  },
  "language_info": {
   "codemirror_mode": {
    "name": "ipython",
    "version": 3
   },
   "file_extension": ".py",
   "mimetype": "text/x-python",
   "name": "python",
   "nbconvert_exporter": "python",
   "pygments_lexer": "ipython3",
   "version": "3.10.11"
  },
  "orig_nbformat": 4
 },
 "nbformat": 4,
 "nbformat_minor": 2
}
