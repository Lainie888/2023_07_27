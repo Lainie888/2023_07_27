{
 "cells": [
  {
   "cell_type": "code",
   "execution_count": null,
   "metadata": {},
   "outputs": [],
   "source": []
  },
  {
   "cell_type": "code",
   "execution_count": 1,
   "metadata": {},
   "outputs": [
    {
     "name": "stdout",
     "output_type": "stream",
     "text": [
      "a b c d e f g h i j k l m n o p q r s t u v w x y z "
     ]
    }
   ],
   "source": [
    "#字串是串列資料\n",
    "for word in \"abcdefghijklmnopqrstuvwxyz\":\n",
    "    print(word,end=\" \")  #end 默認是換行"
   ]
  },
  {
   "cell_type": "code",
   "execution_count": 2,
   "metadata": {},
   "outputs": [
    {
     "data": {
      "text/plain": [
       "\"That is Alice's cat.\""
      ]
     },
     "execution_count": 2,
     "metadata": {},
     "output_type": "execute_result"
    }
   ],
   "source": [
    "words = \"That is Alice's cat.\"\n",
    "words"
   ]
  },
  {
   "cell_type": "code",
   "execution_count": 4,
   "metadata": {},
   "outputs": [
    {
     "data": {
      "text/plain": [
       "\"That is Alice's cat.\""
      ]
     },
     "execution_count": 4,
     "metadata": {},
     "output_type": "execute_result"
    }
   ],
   "source": [
    "words = 'That is Alice\\'s cat.'\n",
    "words"
   ]
  },
  {
   "cell_type": "code",
   "execution_count": 6,
   "metadata": {},
   "outputs": [
    {
     "name": "stdout",
     "output_type": "stream",
     "text": [
      "Hello there!\n",
      "How are you?\n",
      "I'm doing fine.\n"
     ]
    }
   ],
   "source": [
    "print(\"Hello there!\\nHow are you?\\nI\\'m doing fine.\")\n",
    "\n",
    "# \\n 換行"
   ]
  },
  {
   "cell_type": "code",
   "execution_count": 7,
   "metadata": {},
   "outputs": [
    {
     "name": "stdout",
     "output_type": "stream",
     "text": [
      "That is Carol\\'s cats.\n"
     ]
    }
   ],
   "source": [
    "print(r'That is Carol\\'s cats.')\n",
    "\n",
    "# r  就是 raw (原生字)\n",
    "# f  就是字串插補"
   ]
  },
  {
   "cell_type": "code",
   "execution_count": 9,
   "metadata": {},
   "outputs": [
    {
     "data": {
      "text/plain": [
       "'lorem lorem lorem loremlorem loremlorem loremlorem loremlorem lorem.'"
      ]
     },
     "execution_count": 9,
     "metadata": {},
     "output_type": "execute_result"
    }
   ],
   "source": [
    "#單行文字\n",
    "sentens = \"lorem lorem lorem loremlorem lorem\\\n",
    "lorem lorem\\\n",
    "lorem lorem\\\n",
    "lorem lorem.\"\n",
    "\n",
    "sentens"
   ]
  },
  {
   "cell_type": "code",
   "execution_count": 18,
   "metadata": {},
   "outputs": [
    {
     "name": "stdout",
     "output_type": "stream",
     "text": [
      "lorem lorem lorem lorem lorem lorem\n",
      "\n",
      " lorem \n"
     ]
    }
   ],
   "source": [
    "#多行文字\n",
    "sentens1 = \"lorem lorem lorem lorem lorem lorem\\n\\n lorem \"\n",
    "print(sentens1)"
   ]
  },
  {
   "cell_type": "code",
   "execution_count": 17,
   "metadata": {},
   "outputs": [
    {
     "name": "stdout",
     "output_type": "stream",
     "text": [
      "lorem lorem lorem lorem lorem lorem lorem \n",
      "lorem lorem lorem,lorem lorem lorem \n",
      "lorem lorem lorem lorem \n"
     ]
    }
   ],
   "source": [
    "#多行文字\n",
    "sentens2 = '''lorem lorem lorem lorem lorem lorem lorem \n",
    "lorem lorem lorem,lorem lorem lorem \n",
    "lorem lorem lorem lorem '''\n",
    "\n",
    "print(sentens2)"
   ]
  },
  {
   "cell_type": "code",
   "execution_count": 19,
   "metadata": {},
   "outputs": [],
   "source": [
    "#多行文字，當儘function的說明\n",
    "def add(first:int,second:int) -> int:\n",
    "    '''\n",
    "    加總的運算\n",
    "\n",
    "    2個參數的相加\n",
    "    '''\n",
    "    return first + second"
   ]
  },
  {
   "cell_type": "code",
   "execution_count": 20,
   "metadata": {},
   "outputs": [
    {
     "name": "stdout",
     "output_type": "stream",
     "text": [
      "Help on function add in module __main__:\n",
      "\n",
      "add(first: int, second: int) -> int\n",
      "    加總的運算\n",
      "    \n",
      "    2個參數的相加\n",
      "\n"
     ]
    }
   ],
   "source": [
    "help(add)"
   ]
  },
  {
   "cell_type": "code",
   "execution_count": 21,
   "metadata": {},
   "outputs": [
    {
     "name": "stdout",
     "output_type": "stream",
     "text": [
      "Help on built-in function print in module builtins:\n",
      "\n",
      "print(...)\n",
      "    print(value, ..., sep=' ', end='\\n', file=sys.stdout, flush=False)\n",
      "    \n",
      "    Prints the values to a stream, or to sys.stdout by default.\n",
      "    Optional keyword arguments:\n",
      "    file:  a file-like object (stream); defaults to the current sys.stdout.\n",
      "    sep:   string inserted between values, default a space.\n",
      "    end:   string appended after the last value, default a newline.\n",
      "    flush: whether to forcibly flush the stream.\n",
      "\n"
     ]
    }
   ],
   "source": [
    "help(print)"
   ]
  },
  {
   "cell_type": "code",
   "execution_count": 23,
   "metadata": {},
   "outputs": [
    {
     "data": {
      "text/plain": [
       "26"
      ]
     },
     "execution_count": 23,
     "metadata": {},
     "output_type": "execute_result"
    }
   ],
   "source": [
    "letters = \"abcdefghijklmnopqrstuvwxyz\"\n",
    "len(letters)"
   ]
  },
  {
   "cell_type": "code",
   "execution_count": 24,
   "metadata": {},
   "outputs": [
    {
     "data": {
      "text/plain": [
       "3"
      ]
     },
     "execution_count": 24,
     "metadata": {},
     "output_type": "execute_result"
    }
   ],
   "source": [
    "name = \"王小明\"\n",
    "len(name)"
   ]
  },
  {
   "cell_type": "code",
   "execution_count": 26,
   "metadata": {},
   "outputs": [
    {
     "name": "stdout",
     "output_type": "stream",
     "text": [
      "a\n",
      "z\n",
      "z\n"
     ]
    }
   ],
   "source": [
    "#字串的index 索引，從0開始\n",
    "letters = \"abcdefghijklmnopqrstuvwxyz\"\n",
    "\n",
    "#subscript\n",
    "print(letters[0])\n",
    "print(letters[25])\n",
    "print(letters[len(letters)-1])"
   ]
  },
  {
   "cell_type": "code",
   "execution_count": 35,
   "metadata": {},
   "outputs": [
    {
     "name": "stdout",
     "output_type": "stream",
     "text": [
      "H\n",
      "d\n",
      "ello Wo\n",
      "Hello\n",
      "Hello\n",
      "World\n",
      "Worl\n"
     ]
    }
   ],
   "source": [
    "#字串的切割[n:m]  (包含n，不包含m)\n",
    "greeting = \"Hello World\"\n",
    "print(greeting[0])\n",
    "print(greeting[-1])\n",
    "print(greeting[1:8])\n",
    "print(greeting[0:5])\n",
    "print(greeting[:5]) #常用   #前5個 #從開始，不包含5\n",
    "print(greeting[-5:])  #常用  #後5個\n",
    "print(greeting[-5:-1])"
   ]
  }
 ],
 "metadata": {
  "kernelspec": {
   "display_name": "Python 3",
   "language": "python",
   "name": "python3"
  },
  "language_info": {
   "codemirror_mode": {
    "name": "ipython",
    "version": 3
   },
   "file_extension": ".py",
   "mimetype": "text/x-python",
   "name": "python",
   "nbconvert_exporter": "python",
   "pygments_lexer": "ipython3",
   "version": "3.10.12"
  },
  "orig_nbformat": 4
 },
 "nbformat": 4,
 "nbformat_minor": 2
}
