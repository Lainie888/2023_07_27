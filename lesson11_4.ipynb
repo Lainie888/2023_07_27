{
 "cells": [
  {
   "cell_type": "code",
   "execution_count": 7,
   "metadata": {},
   "outputs": [
    {
     "data": {
      "text/plain": [
       "[['林冠蕙', '85', '81', '54', '68', '77'],\n",
       " ['陳冠霞', '73', '94', '51', '92', '54'],\n",
       " ['王孝純', '68', '98', '99', '62', '69'],\n",
       " ['陳怡伶', '67', '52', '66', '92', '72'],\n",
       " ['陳淑萍', '81', '89', '53', '81', '70']]"
      ]
     },
     "metadata": {},
     "output_type": "display_data"
    }
   ],
   "source": [
    "import csv\n",
    "with open(\"a2.csv\", encoding=\"utf-8\", newline=\"\") as file:\n",
    "    csv_reader = csv.reader(file)\n",
    "    next(csv_reader)\n",
    "    # print(type(csv_reader))\n",
    "    # for row in csv_reader:\n",
    "    #     print(row)\n",
    "    csv_list = list(csv_reader)\n",
    "\n",
    "display(csv_list)"
   ]
  },
  {
   "cell_type": "code",
   "execution_count": 8,
   "metadata": {},
   "outputs": [
    {
     "name": "stdout",
     "output_type": "stream",
     "text": [
      "['林冠蕙', '85', '81', '54', '68', '77']\n"
     ]
    }
   ],
   "source": [
    "for student in csv_list:\n",
    "    if student[0] == \"林冠蕙\":\n",
    "        print(student)\n",
    "        break"
   ]
  }
 ],
 "metadata": {
  "kernelspec": {
   "display_name": "Python 3",
   "language": "python",
   "name": "python3"
  },
  "language_info": {
   "codemirror_mode": {
    "name": "ipython",
    "version": 3
   },
   "file_extension": ".py",
   "mimetype": "text/x-python",
   "name": "python",
   "nbconvert_exporter": "python",
   "pygments_lexer": "ipython3",
   "version": "3.10.11"
  },
  "orig_nbformat": 4
 },
 "nbformat": 4,
 "nbformat_minor": 2
}
