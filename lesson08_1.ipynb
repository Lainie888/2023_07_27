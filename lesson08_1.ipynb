{
 "cells": [
  {
   "cell_type": "code",
   "execution_count": 1,
   "metadata": {},
   "outputs": [
    {
     "data": {
      "text/plain": [
       "('Hello ', ' World')"
      ]
     },
     "execution_count": 1,
     "metadata": {},
     "output_type": "execute_result"
    }
   ],
   "source": [
    "greeting = \"Hello ! World\"\n",
    "greeting[:6],greeting[-6:]"
   ]
  },
  {
   "cell_type": "code",
   "execution_count": 6,
   "metadata": {},
   "outputs": [
    {
     "data": {
      "text/plain": [
       "str"
      ]
     },
     "metadata": {},
     "output_type": "display_data"
    }
   ],
   "source": [
    "city = \"Taipei\"\n",
    "display(type(city))\n",
    "city = city.capitalize() #str實體的方法, capitalize()"
   ]
  },
  {
   "cell_type": "code",
   "execution_count": 11,
   "metadata": {},
   "outputs": [
    {
     "data": {
      "text/plain": [
       "str"
      ]
     },
     "metadata": {},
     "output_type": "display_data"
    }
   ],
   "source": [
    "#.capitalize() 将字符串的第一个字母变成大写,其他字母变小写\n",
    "city = 'taipei'\n",
    "display(type(city))\n",
    "city = city.capitalize() #str實體的方法,capitalize()"
   ]
  },
  {
   "cell_type": "code",
   "execution_count": 8,
   "metadata": {},
   "outputs": [
    {
     "data": {
      "text/plain": [
       "'Penny'"
      ]
     },
     "execution_count": 8,
     "metadata": {},
     "output_type": "execute_result"
    }
   ],
   "source": [
    "#字串的實體方法\n",
    "# str.replace() #一定要有兩個值，才能替換   \n",
    "name = \"Henny\"\n",
    "name = name.replace(\"H\",\"P\")\n",
    "name"
   ]
  },
  {
   "cell_type": "code",
   "execution_count": 9,
   "metadata": {},
   "outputs": [
    {
     "data": {
      "text/plain": [
       "'Penny'"
      ]
     },
     "execution_count": 9,
     "metadata": {},
     "output_type": "execute_result"
    }
   ],
   "source": [
    "name = \"Henny\"\n",
    "name = \"P\" + name[1:]\n",
    "name"
   ]
  },
  {
   "cell_type": "code",
   "execution_count": 21,
   "metadata": {},
   "outputs": [
    {
     "data": {
      "text/plain": [
       "8"
      ]
     },
     "metadata": {},
     "output_type": "display_data"
    },
    {
     "data": {
      "text/plain": [
       "-1"
      ]
     },
     "execution_count": 21,
     "metadata": {},
     "output_type": "execute_result"
    }
   ],
   "source": [
    "# str.find()  字串的實體方法\n",
    "str1 = \"this is Python Tutouial, there\"\n",
    "display(str1.find(\"Python\"))\n",
    "\n",
    "str1.find(\"not\") #找不到值就返回 -1 (說明書上寫的)"
   ]
  },
  {
   "cell_type": "code",
   "execution_count": 19,
   "metadata": {},
   "outputs": [
    {
     "data": {
      "text/plain": [
       "'a-b-c-d-e'"
      ]
     },
     "execution_count": 19,
     "metadata": {},
     "output_type": "execute_result"
    }
   ],
   "source": [
    "# str.join() 連結  字串的實體方法\n",
    "str1 =\"-\"\n",
    "\"-\".join(\"abcde\")"
   ]
  },
  {
   "cell_type": "code",
   "execution_count": 20,
   "metadata": {},
   "outputs": [
    {
     "data": {
      "text/plain": [
       "['python', 'java', 'c++', 'ruby']"
      ]
     },
     "execution_count": 20,
     "metadata": {},
     "output_type": "execute_result"
    }
   ],
   "source": [
    "#str.split() 切割  字串的實體方法\n",
    "str2=\"python,java,c++,ruby\"\n",
    "str2.split(sep=\",\")"
   ]
  },
  {
   "cell_type": "code",
   "execution_count": 24,
   "metadata": {},
   "outputs": [
    {
     "name": "stdout",
     "output_type": "stream",
     "text": [
      "輸入錯誤\n"
     ]
    }
   ],
   "source": [
    "#.isdigit()\n",
    "#字串的實體方法 \n",
    "age:str = input(\"請輸入age:\")\n",
    "if not age.isdigit(): #如果不是輸入數字\n",
    "    print(\"輸入錯誤\")\n",
    "else:\n",
    "    print(f\"你的age:{age}\")"
   ]
  },
  {
   "cell_type": "code",
   "execution_count": 28,
   "metadata": {},
   "outputs": [
    {
     "data": {
      "text/plain": [
       "'-------hello--------'"
      ]
     },
     "execution_count": 28,
     "metadata": {},
     "output_type": "execute_result"
    }
   ],
   "source": [
    "\"hello\".rjust(20)\n",
    "\"hello\".ljust(20)\n",
    "\"hello\".center(20,\"-\")"
   ]
  },
  {
   "cell_type": "code",
   "execution_count": 29,
   "metadata": {},
   "outputs": [
    {
     "name": "stdout",
     "output_type": "stream",
     "text": [
      "---------早餐---------\n",
      "三明治............   35\n",
      "火腿蛋............   30\n"
     ]
    }
   ],
   "source": [
    "print(\"早餐\".center(20,\"-\"))\n",
    "print(\"三明治\".ljust(15,\".\") + \"35\".rjust(5))\n",
    "print(\"火腿蛋\".ljust(15,\".\") + \"30\".rjust(5))"
   ]
  },
  {
   "cell_type": "code",
   "execution_count": 10,
   "metadata": {},
   "outputs": [
    {
     "name": "stdout",
     "output_type": "stream",
     "text": [
      "Hello ! \n",
      " World \n"
     ]
    }
   ],
   "source": [
    "print(\"Hello ! \\n World \")"
   ]
  },
  {
   "cell_type": "code",
   "execution_count": 11,
   "metadata": {},
   "outputs": [
    {
     "name": "stdout",
     "output_type": "stream",
     "text": [
      "hello\\nworld\n"
     ]
    }
   ],
   "source": [
    "#有加r (原生字)\n",
    "print(r\"hello\\nworld\")"
   ]
  },
  {
   "cell_type": "code",
   "execution_count": 3,
   "metadata": {},
   "outputs": [
    {
     "name": "stdout",
     "output_type": "stream",
     "text": [
      "你的手機號碼是:1234-567-890\n"
     ]
    }
   ],
   "source": [
    "#檢查台灣手機號碼輸入格式(xxxx-xxx-xxx)\n",
    "def isPhoneNumber(text:str) -> bool:\n",
    "    if len(text) != 12:\n",
    "        return False\n",
    "    elif not text[:4].isdigit():\n",
    "        return False\n",
    "    elif text[4] != \"-\":\n",
    "        return False\n",
    "    elif not text[5:8].isdigit():\n",
    "        return False\n",
    "    elif text[8] != \"-\":\n",
    "        return False\n",
    "    elif not text[-3:] .isdigit():\n",
    "        return False\n",
    "    \n",
    "    return True\n",
    "\n",
    "phone_num = input(\"請輸入手機號碼xxxx-xxx-xxx:\")\n",
    "if isPhoneNumber(phone_num):\n",
    "    print(f\"你的手機號碼是:{phone_num}\")\n",
    "else:\n",
    "    print(f\"你的手機號碼是:{phone_num}，格式有錯\")\n"
   ]
  },
  {
   "cell_type": "code",
   "execution_count": 7,
   "metadata": {},
   "outputs": [
    {
     "name": "stdout",
     "output_type": "stream",
     "text": [
      "你的手機號碼是:1234-567-891\n"
     ]
    }
   ],
   "source": [
    "#檢查台灣手機號碼輸入格式(xxxx-xxx-xxx)\n",
    "#re 正規則表達式\n",
    "#r  是raw 原生字\n",
    "import re\n",
    "def isPhoneNumber(text:str) -> bool:\n",
    "    phoneNumRegex = re.compile(r\"\\d\\d\\d\\d-\\d\\d\\d-\\d\\d\\d\")\n",
    "    if phoneNumRegex.match(text) is None:\n",
    "        return False\n",
    "    else:\n",
    "        return True\n",
    "\n",
    "phone_num = input(\"請輸入手機號碼xxxx-xxx-xxx:\")\n",
    "if isPhoneNumber(phone_num):\n",
    "    print(f\"你的手機號碼是:{phone_num}\")\n",
    "else:\n",
    "    print(f\"你的手機號碼是:{phone_num}，格式有錯\")\n"
   ]
  },
  {
   "cell_type": "code",
   "execution_count": 8,
   "metadata": {},
   "outputs": [
    {
     "name": "stdout",
     "output_type": "stream",
     "text": [
      "你的email是:lainie@gmail.com\n"
     ]
    }
   ],
   "source": [
    "#檢查email輸入格式\n",
    "#re 正規則表達式\n",
    "#r  是raw 原生字\n",
    "import re\n",
    "def isEmail(text:str) -> bool:\n",
    "    emailRegex = re.compile(r\"^\\w+((-\\w+)|(\\.\\w+))*\\@[A-Za-z0-9]+((\\.|-)[A-Za-z0-9]+)*\\.[A-Za-z]+$\")\n",
    "    if emailRegex.match(text) is None:\n",
    "        return False\n",
    "    else:\n",
    "        return True\n",
    "\n",
    "eMail = input(\"請輸入email:\")\n",
    "if isEmail(eMail):\n",
    "    print(f\"你的email是:{eMail}\")\n",
    "else:\n",
    "    print(f\"你的email是:{eMail}，格式有錯\")\n"
   ]
  }
 ],
 "metadata": {
  "kernelspec": {
   "display_name": "Python 3",
   "language": "python",
   "name": "python3"
  },
  "language_info": {
   "codemirror_mode": {
    "name": "ipython",
    "version": 3
   },
   "file_extension": ".py",
   "mimetype": "text/x-python",
   "name": "python",
   "nbconvert_exporter": "python",
   "pygments_lexer": "ipython3",
   "version": "3.10.12"
  },
  "orig_nbformat": 4
 },
 "nbformat": 4,
 "nbformat_minor": 2
}
