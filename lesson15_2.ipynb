{
 "cells": [
  {
   "cell_type": "code",
   "execution_count": 3,
   "metadata": {},
   "outputs": [
    {
     "data": {
      "text/plain": [
       "[3, 7, 11, 15, 19]"
      ]
     },
     "execution_count": 3,
     "metadata": {},
     "output_type": "execute_result"
    }
   ],
   "source": [
    "#建立list\n",
    "a = [1,3,5,7,9]\n",
    "a * 2\n",
    "\n",
    "b = [2, 4, 6, 8, 10]\n",
    "a + b\n",
    "\n",
    "result = []\n",
    "for i in range(5): #跑迴圈，再append\n",
    "    result.append(a[i]+ b[i])\n",
    "\n",
    "result    "
   ]
  },
  {
   "cell_type": "code",
   "execution_count": 3,
   "metadata": {},
   "outputs": [
    {
     "data": {
      "text/plain": [
       "array([ 3,  7, 11, 15, 19])"
      ]
     },
     "execution_count": 3,
     "metadata": {},
     "output_type": "execute_result"
    }
   ],
   "source": [
    "import numpy as np\n",
    "\n",
    "#透過list 建立ndArray 陣列運算\n",
    "\n",
    "a_array = np.array([1,3,5,7,9])\n",
    "a_array * 2\n",
    "\n",
    "b_array = np.array([2, 4, 6, 8, 10])\n",
    "\n",
    "a_array + b_array"
   ]
  },
  {
   "cell_type": "code",
   "execution_count": 5,
   "metadata": {},
   "outputs": [
    {
     "data": {
      "text/plain": [
       "[66, 66, 92, 89, 90]"
      ]
     },
     "execution_count": 5,
     "metadata": {},
     "output_type": "execute_result"
    }
   ],
   "source": [
    "#使用python建立5個亂數元素的list\n",
    "import random\n",
    "\n",
    "#list comprehension\n",
    "[random.randint(50, 100) for _ in range(5)]\n"
   ]
  },
  {
   "cell_type": "code",
   "execution_count": 6,
   "metadata": {},
   "outputs": [
    {
     "data": {
      "text/plain": [
       "array([73, 67, 56, 85, 50])"
      ]
     },
     "execution_count": 6,
     "metadata": {},
     "output_type": "execute_result"
    }
   ],
   "source": [
    "#使用numpy random 建立亂數\n",
    "import numpy as np\n",
    "np.random.randint(50, high=100, size=5)"
   ]
  },
  {
   "cell_type": "code",
   "execution_count": 7,
   "metadata": {},
   "outputs": [
    {
     "data": {
      "text/plain": [
       "array([[93, 72, 91, 84, 90],\n",
       "       [68, 81, 91, 90, 92],\n",
       "       [64, 60, 61, 57, 73],\n",
       "       [92, 58, 98, 69, 84],\n",
       "       [50, 90, 66, 79, 59],\n",
       "       [52, 67, 57, 79, 56],\n",
       "       [75, 53, 92, 53, 80],\n",
       "       [56, 52, 84, 81, 66],\n",
       "       [60, 81, 86, 68, 90],\n",
       "       [51, 99, 98, 76, 67],\n",
       "       [80, 68, 64, 55, 64],\n",
       "       [79, 65, 56, 69, 60],\n",
       "       [75, 55, 63, 77, 59],\n",
       "       [96, 88, 85, 59, 99],\n",
       "       [78, 61, 89, 81, 83],\n",
       "       [80, 55, 81, 82, 58],\n",
       "       [64, 90, 75, 83, 50],\n",
       "       [82, 78, 93, 83, 77],\n",
       "       [60, 90, 89, 70, 93],\n",
       "       [72, 82, 59, 57, 57],\n",
       "       [66, 89, 50, 97, 79],\n",
       "       [74, 66, 78, 78, 59],\n",
       "       [68, 74, 75, 99, 80],\n",
       "       [73, 93, 78, 75, 63],\n",
       "       [79, 54, 70, 81, 79],\n",
       "       [50, 79, 81, 95, 77],\n",
       "       [72, 85, 88, 76, 60],\n",
       "       [51, 53, 73, 50, 95],\n",
       "       [90, 98, 84, 98, 72],\n",
       "       [60, 81, 74, 87, 72],\n",
       "       [59, 80, 93, 77, 77],\n",
       "       [99, 69, 85, 53, 90],\n",
       "       [90, 74, 70, 57, 57],\n",
       "       [62, 81, 67, 50, 86],\n",
       "       [91, 69, 82, 66, 56],\n",
       "       [95, 89, 99, 88, 69],\n",
       "       [69, 79, 61, 70, 69],\n",
       "       [81, 98, 80, 83, 77],\n",
       "       [74, 76, 99, 50, 79],\n",
       "       [55, 88, 84, 74, 91],\n",
       "       [74, 71, 74, 81, 58],\n",
       "       [79, 53, 91, 69, 74],\n",
       "       [80, 94, 95, 67, 78],\n",
       "       [69, 86, 69, 51, 70],\n",
       "       [78, 55, 93, 76, 88],\n",
       "       [71, 54, 53, 95, 87],\n",
       "       [96, 65, 75, 57, 94],\n",
       "       [79, 93, 53, 84, 81],\n",
       "       [74, 80, 86, 62, 58],\n",
       "       [72, 60, 86, 68, 90]])"
      ]
     },
     "execution_count": 7,
     "metadata": {},
     "output_type": "execute_result"
    }
   ],
   "source": [
    "np.random.randint(50, high=100, size=(50, 5))\n"
   ]
  }
 ],
 "metadata": {
  "kernelspec": {
   "display_name": "Python 3",
   "language": "python",
   "name": "python3"
  },
  "language_info": {
   "codemirror_mode": {
    "name": "ipython",
    "version": 3
   },
   "file_extension": ".py",
   "mimetype": "text/x-python",
   "name": "python",
   "nbconvert_exporter": "python",
   "pygments_lexer": "ipython3",
   "version": "3.10.11"
  },
  "orig_nbformat": 4
 },
 "nbformat": 4,
 "nbformat_minor": 2
}
