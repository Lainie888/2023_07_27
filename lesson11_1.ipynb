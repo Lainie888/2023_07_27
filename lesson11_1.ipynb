{
 "cells": [
  {
   "cell_type": "code",
   "execution_count": 8,
   "metadata": {},
   "outputs": [
    {
     "data": {
      "text/plain": [
       "[['葉志峰', 68, 77, 97, 57, 85],\n",
       " ['林麗萍', 84, 56, 79, 90, 77],\n",
       " ['高信宏', 50, 58, 84, 78, 78],\n",
       " ['林冠蕙', 51, 86, 87, 97, 69],\n",
       " ['陳慧君', 90, 74, 90, 68, 64]]"
      ]
     },
     "execution_count": 8,
     "metadata": {},
     "output_type": "execute_result"
    }
   ],
   "source": [
    "import random\n",
    "def get_score() -> list:  #隨機跑5個分數 #一個學生的分數\n",
    "    score = []\n",
    "    for i in range(5): #跑5次\n",
    "        score.append(random.randint(50,100))\n",
    "    return score\n",
    "\n",
    "nums_int = int(input(\"請輸入學生數:\"))\n",
    "\n",
    "#取得nums_int個姓名\n",
    "with open(\"names.txt\",encoding=\"utf-8\",newline=\"\") as file:\n",
    "    names_str = file.read()\n",
    "    all_names_list = names_str.split(sep=\"\\n\")\n",
    "    names_list = random.choices(all_names_list,k=nums_int) #取出一定數量的姓名\n",
    "\n",
    "# print(names_list)\n",
    "\n",
    "students = []\n",
    "for i in range(nums_int): #變數【 _ 】為省略運算子\n",
    "    scores = get_score() #宣告一個新的變數 = 上面的函式\n",
    "    new_list = [names_list[i]] + scores\n",
    "    students.append(new_list)\n",
    "\n",
    "students"
   ]
  }
 ],
 "metadata": {
  "kernelspec": {
   "display_name": "Python 3",
   "language": "python",
   "name": "python3"
  },
  "language_info": {
   "codemirror_mode": {
    "name": "ipython",
    "version": 3
   },
   "file_extension": ".py",
   "mimetype": "text/x-python",
   "name": "python",
   "nbconvert_exporter": "python",
   "pygments_lexer": "ipython3",
   "version": "3.10.11"
  },
  "orig_nbformat": 4
 },
 "nbformat": 4,
 "nbformat_minor": 2
}
