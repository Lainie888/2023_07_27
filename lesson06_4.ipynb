{
 "cells": [
  {
   "cell_type": "code",
   "execution_count": null,
   "metadata": {},
   "outputs": [],
   "source": [
    "import random\n",
    "min = 1\n",
    "max = 100\n",
    "target = random.randint(min,max) #宣告亂數的範圍是在1~10\n",
    "#random.randint(a, b)\n",
    "#回傳一個隨機整數 N，使得 a <= N <= b。為 randrange(a, b+1) 的別名。\n",
    "count = 0\n",
    "print(\"=============猜數字遊戲============\\n\\n\")\n",
    "while True:\n",
    "    keyin = int(input(f\"猜數字的範圍{min}~{max}：\"))\n",
    "    count += 1\n",
    "    if keyin >= min and keyin <= max:\n",
    "       if(keyin == target):\n",
    "           print(f\"bingo.猜對了，答案是:{keyin}\")\n",
    "           print(f\"你總共猜了{count}次\")\n",
    "           break\n",
    "       elif(keyin > target):\n",
    "            print(\"再小一點\")\n",
    "            max = keyin - 1\n",
    "       elif(keyin < target):\n",
    "        print(\"再大一點\")\n",
    "        min = keyin + 1\n",
    "\n",
    "       print(f\"你總共猜了{count}次\")\n",
    "    else:\n",
    "        print(\"超出範圍\")\n",
    "\n",
    "\n",
    "print(\"GAME OVER!\")"
   ]
  },
  {
   "cell_type": "code",
   "execution_count": 5,
   "metadata": {},
   "outputs": [
    {
     "name": "stdout",
     "output_type": "stream",
     "text": [
      "70\n",
      "=============猜數字遊戲============\n",
      "\n",
      "\n",
      "再大一點\n",
      "你總共猜了1次\n",
      "bingo.猜對了，答案是:70\n",
      "你總共猜了2次\n",
      "遊戲結束\n"
     ]
    }
   ],
   "source": [
    "import random\n",
    "while True:\n",
    "    min = 1\n",
    "    max = 100\n",
    "    target = random.randint(min,max) #宣告亂數的範圍是在1~10\n",
    "    #random.randint(a, b)\n",
    "    #回傳一個隨機整數 N，使得 a <= N <= b。為 randrange(a, b+1) 的別名。\n",
    "    print(target)\n",
    "    count = 0\n",
    "    print(\"=============猜數字遊戲============\\n\\n\")\n",
    "    while True:\n",
    "        keyin = int(input(f\"猜數字的範圍{min}~{max}：\"))\n",
    "        count += 1\n",
    "        if keyin >= min and keyin <= max:\n",
    "            if(keyin == target):\n",
    "                print(f\"bingo.猜對了，答案是:{keyin}\")\n",
    "                print(f\"你總共猜了{count}次\")\n",
    "                break\n",
    "            elif(keyin > target):\n",
    "                    print(\"再小一點\")\n",
    "                    max = keyin - 1\n",
    "            elif(keyin < target):\n",
    "                print(\"再大一點\")\n",
    "                min = keyin + 1\n",
    "\n",
    "            print(f\"你總共猜了{count}次\")\n",
    "        else:\n",
    "            print(\"超出範圍\")\n",
    "        \n",
    "\n",
    "    play_again = input(\"你還要繼續嗎?(y or n)\")\n",
    "    if play_again == \"n\":\n",
    "        break\n",
    "    else:\n",
    "        continue\n",
    "\n",
    "print(\"遊戲結束\")\n",
    "#程式本身的小bug，按y，會一直重複出現你還要繼續嗎?"
   ]
  }
 ],
 "metadata": {
  "kernelspec": {
   "display_name": "Python 3",
   "language": "python",
   "name": "python3"
  },
  "language_info": {
   "codemirror_mode": {
    "name": "ipython",
    "version": 3
   },
   "file_extension": ".py",
   "mimetype": "text/x-python",
   "name": "python",
   "nbconvert_exporter": "python",
   "pygments_lexer": "ipython3",
   "version": "3.10.12"
  },
  "orig_nbformat": 4
 },
 "nbformat": 4,
 "nbformat_minor": 2
}
