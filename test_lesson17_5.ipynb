{
 "cells": [
  {
   "cell_type": "code",
   "execution_count": 3,
   "metadata": {},
   "outputs": [
    {
     "data": {
      "text/plain": [
       "0      79\n",
       "1      66\n",
       "2      54\n",
       "3      71\n",
       "4      61\n",
       "5      69\n",
       "6      80\n",
       "7      84\n",
       "8      96\n",
       "9      94\n",
       "10     72\n",
       "11     67\n",
       "12     73\n",
       "13     56\n",
       "14     69\n",
       "15     96\n",
       "16     78\n",
       "17     62\n",
       "18     54\n",
       "19     59\n",
       "20     81\n",
       "21     74\n",
       "22     56\n",
       "23     97\n",
       "24     83\n",
       "25     81\n",
       "26     73\n",
       "27     57\n",
       "28     89\n",
       "29     64\n",
       "30     65\n",
       "31     57\n",
       "32     85\n",
       "33     96\n",
       "34     90\n",
       "35     89\n",
       "36     92\n",
       "37     77\n",
       "38    100\n",
       "39     91\n",
       "40     73\n",
       "41     63\n",
       "42     54\n",
       "43     62\n",
       "44     89\n",
       "45     74\n",
       "46     78\n",
       "47     53\n",
       "48     57\n",
       "49     87\n",
       "Name: 國文, dtype: int64"
      ]
     },
     "execution_count": 3,
     "metadata": {},
     "output_type": "execute_result"
    }
   ],
   "source": [
    "import pandas as pd\n",
    "df = pd.read_csv(\"學生成績.csv\")\n",
    "\n",
    "#使用subscript搜尋Series value值  \n",
    "# 使用subscript就是中括號[]\n",
    "chinese_s = df[\"國文\"]\n",
    "chinese_s\n"
   ]
  },
  {
   "cell_type": "code",
   "execution_count": 8,
   "metadata": {},
   "outputs": [
    {
     "data": {
      "text/plain": [
       "0      79\n",
       "1      66\n",
       "3      71\n",
       "4      61\n",
       "5      69\n",
       "6      80\n",
       "7      84\n",
       "8      96\n",
       "9      94\n",
       "10     72\n",
       "11     67\n",
       "12     73\n",
       "14     69\n",
       "15     96\n",
       "16     78\n",
       "17     62\n",
       "20     81\n",
       "21     74\n",
       "23     97\n",
       "24     83\n",
       "25     81\n",
       "26     73\n",
       "28     89\n",
       "29     64\n",
       "30     65\n",
       "32     85\n",
       "33     96\n",
       "34     90\n",
       "35     89\n",
       "36     92\n",
       "37     77\n",
       "38    100\n",
       "39     91\n",
       "40     73\n",
       "41     63\n",
       "43     62\n",
       "44     89\n",
       "45     74\n",
       "46     78\n",
       "49     87\n",
       "Name: 國文, dtype: int64"
      ]
     },
     "execution_count": 8,
     "metadata": {},
     "output_type": "execute_result"
    }
   ],
   "source": [
    "chinese_s + chinese_s\n",
    "chinese_s / chinese_s\n",
    "\n",
    "#使用subscript就是中括號[]  #抓到國文及格的值\n",
    "chinese_s[chinese_s >= 60]"
   ]
  },
  {
   "cell_type": "code",
   "execution_count": 11,
   "metadata": {},
   "outputs": [
    {
     "data": {
      "text/plain": [
       "6     50\n",
       "14    59\n",
       "15    59\n",
       "17    59\n",
       "23    51\n",
       "27    57\n",
       "37    54\n",
       "44    50\n",
       "48    54\n",
       "Name: 數學, dtype: int64"
      ]
     },
     "execution_count": 11,
     "metadata": {},
     "output_type": "execute_result"
    }
   ],
   "source": [
    "#抓到數學及格的值\n",
    "math_s = df[\"數學\"]\n",
    "math_s[math_s < 60]"
   ]
  }
 ],
 "metadata": {
  "kernelspec": {
   "display_name": "Python 3",
   "language": "python",
   "name": "python3"
  },
  "language_info": {
   "codemirror_mode": {
    "name": "ipython",
    "version": 3
   },
   "file_extension": ".py",
   "mimetype": "text/x-python",
   "name": "python",
   "nbconvert_exporter": "python",
   "pygments_lexer": "ipython3",
   "version": "3.10.11"
  },
  "orig_nbformat": 4
 },
 "nbformat": 4,
 "nbformat_minor": 2
}
