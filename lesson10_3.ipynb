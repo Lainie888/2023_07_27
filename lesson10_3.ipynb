{
 "cells": [
  {
   "cell_type": "code",
   "execution_count": 7,
   "metadata": {},
   "outputs": [
    {
     "data": {
      "text/plain": [
       "([79, 92, 68, 75, 68], [78, 95, 68, 72, 65], [72, 95, 69, 79, 61])"
      ]
     },
     "execution_count": 7,
     "metadata": {},
     "output_type": "execute_result"
    }
   ],
   "source": [
    "#2維list\n",
    "students =[[79,92,68,75,68],\n",
    "            [78,95,68,72,65],\n",
    "            [72,95,69,79,61]]\n",
    "\n",
    "students[0], students[1] , students[2]"
   ]
  },
  {
   "cell_type": "code",
   "execution_count": 6,
   "metadata": {},
   "outputs": [
    {
     "name": "stdout",
     "output_type": "stream",
     "text": [
      "[79, 92, 68, 75, 68]\n",
      "[78, 95, 68, 72, 65]\n",
      "[72, 95, 69, 79, 61]\n"
     ]
    }
   ],
   "source": [
    "for i in students:\n",
    "    print(i)"
   ]
  },
  {
   "cell_type": "code",
   "execution_count": 24,
   "metadata": {},
   "outputs": [
    {
     "data": {
      "text/plain": [
       "[[85, 90, 81, 92, 67],\n",
       " [60, 72, 78, 62, 93],\n",
       " [90, 90, 57, 98, 57],\n",
       " [100, 88, 59, 100, 94],\n",
       " [99, 69, 93, 90, 89],\n",
       " [68, 80, 92, 99, 97],\n",
       " [68, 66, 78, 82, 77],\n",
       " [89, 55, 83, 64, 58],\n",
       " [90, 64, 76, 63, 93],\n",
       " [59, 87, 97, 68, 88],\n",
       " [100, 51, 87, 90, 75],\n",
       " [55, 65, 66, 77, 55],\n",
       " [63, 85, 61, 89, 100],\n",
       " [70, 61, 58, 63, 81],\n",
       " [51, 87, 85, 72, 72],\n",
       " [66, 58, 61, 68, 56],\n",
       " [83, 95, 90, 61, 92],\n",
       " [64, 75, 57, 54, 94],\n",
       " [64, 95, 77, 51, 50],\n",
       " [62, 79, 70, 81, 99],\n",
       " [81, 56, 66, 84, 63],\n",
       " [97, 85, 77, 64, 83],\n",
       " [93, 85, 90, 82, 86],\n",
       " [61, 56, 70, 59, 100],\n",
       " [70, 61, 74, 62, 89],\n",
       " [62, 88, 86, 61, 68],\n",
       " [70, 81, 83, 69, 69],\n",
       " [57, 93, 81, 64, 92],\n",
       " [56, 97, 85, 64, 74],\n",
       " [95, 50, 85, 92, 68],\n",
       " [83, 78, 66, 55, 63],\n",
       " [87, 56, 71, 74, 80],\n",
       " [63, 51, 76, 67, 98],\n",
       " [50, 95, 63, 97, 66],\n",
       " [68, 57, 96, 53, 82],\n",
       " [72, 77, 68, 88, 92],\n",
       " [74, 72, 96, 99, 79],\n",
       " [67, 56, 66, 71, 94],\n",
       " [52, 50, 52, 64, 87],\n",
       " [87, 58, 65, 52, 76],\n",
       " [67, 88, 62, 98, 54],\n",
       " [75, 64, 57, 53, 82],\n",
       " [69, 76, 56, 73, 67],\n",
       " [86, 64, 60, 98, 70],\n",
       " [70, 58, 89, 94, 84],\n",
       " [65, 58, 66, 76, 91],\n",
       " [92, 54, 84, 77, 91],\n",
       " [58, 52, 87, 64, 91],\n",
       " [94, 55, 86, 70, 56],\n",
       " [84, 60, 64, 82, 66]]"
      ]
     },
     "execution_count": 24,
     "metadata": {},
     "output_type": "execute_result"
    }
   ],
   "source": [
    "import random\n",
    "def get_score() -> list:  #隨機跑5個分數\n",
    "    score = []\n",
    "    for i in range(5):\n",
    "        score.append(random.randint(50,100))\n",
    "    return score\n",
    "\n",
    "students = []\n",
    "for i in range(50): \n",
    "    scores = get_score() #宣告一個新的變數 = 上面的函式\n",
    "    students.append(scores)\n",
    "\n",
    "students\n",
    "\n",
    "\n",
    "\n",
    "\n"
   ]
  }
 ],
 "metadata": {
  "kernelspec": {
   "display_name": "Python 3",
   "language": "python",
   "name": "python3"
  },
  "language_info": {
   "codemirror_mode": {
    "name": "ipython",
    "version": 3
   },
   "file_extension": ".py",
   "mimetype": "text/x-python",
   "name": "python",
   "nbconvert_exporter": "python",
   "pygments_lexer": "ipython3",
   "version": "3.10.11"
  },
  "orig_nbformat": 4
 },
 "nbformat": 4,
 "nbformat_minor": 2
}
