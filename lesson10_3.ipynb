{
 "cells": [
  {
   "cell_type": "code",
   "execution_count": 7,
   "metadata": {},
   "outputs": [
    {
     "data": {
      "text/plain": [
       "([79, 92, 68, 75, 68], [78, 95, 68, 72, 65], [72, 95, 69, 79, 61])"
      ]
     },
     "execution_count": 7,
     "metadata": {},
     "output_type": "execute_result"
    }
   ],
   "source": [
    "#2維list\n",
    "students =[[79,92,68,75,68],\n",
    "            [78,95,68,72,65],\n",
    "            [72,95,69,79,61]]\n",
    "\n",
    "students[0], students[1] , students[2]"
   ]
  },
  {
   "cell_type": "code",
   "execution_count": 6,
   "metadata": {},
   "outputs": [
    {
     "name": "stdout",
     "output_type": "stream",
     "text": [
      "[79, 92, 68, 75, 68]\n",
      "[78, 95, 68, 72, 65]\n",
      "[72, 95, 69, 79, 61]\n"
     ]
    }
   ],
   "source": [
    "for i in students:\n",
    "    print(i)"
   ]
  },
  {
   "cell_type": "code",
   "execution_count": 23,
   "metadata": {},
   "outputs": [
    {
     "data": {
      "text/plain": [
       "[[85, 72, 74, 72, 67],\n",
       " [62, 67, 57, 54, 93],\n",
       " [94, 85, 59, 77, 84],\n",
       " [88, 77, 77, 54, 100],\n",
       " [56, 78, 84, 51, 53],\n",
       " [98, 91, 68, 54, 70],\n",
       " [60, 59, 98, 100, 78],\n",
       " [57, 74, 50, 81, 54],\n",
       " [84, 89, 100, 54, 73],\n",
       " [52, 59, 66, 81, 62],\n",
       " [86, 67, 100, 71, 82],\n",
       " [63, 65, 56, 65, 76],\n",
       " [82, 76, 70, 71, 95],\n",
       " [92, 61, 99, 58, 89],\n",
       " [76, 56, 60, 74, 60],\n",
       " [84, 56, 92, 99, 61],\n",
       " [56, 86, 97, 92, 62],\n",
       " [94, 87, 58, 60, 94],\n",
       " [53, 91, 67, 99, 78],\n",
       " [54, 52, 100, 79, 88],\n",
       " [69, 79, 53, 57, 67],\n",
       " [88, 90, 63, 79, 55],\n",
       " [83, 83, 97, 92, 72],\n",
       " [71, 59, 99, 68, 57],\n",
       " [98, 96, 91, 90, 64],\n",
       " [73, 51, 89, 68, 72],\n",
       " [51, 67, 96, 73, 53],\n",
       " [82, 75, 100, 89, 69],\n",
       " [78, 66, 73, 84, 69],\n",
       " [86, 75, 99, 71, 90],\n",
       " [75, 54, 81, 51, 76],\n",
       " [53, 78, 71, 83, 95],\n",
       " [63, 78, 76, 97, 50],\n",
       " [50, 75, 82, 96, 77],\n",
       " [64, 85, 83, 71, 53],\n",
       " [94, 70, 56, 75, 91],\n",
       " [68, 75, 68, 56, 58],\n",
       " [63, 73, 94, 88, 59],\n",
       " [62, 94, 50, 95, 62],\n",
       " [70, 51, 56, 79, 56],\n",
       " [51, 91, 64, 50, 58],\n",
       " [63, 95, 72, 78, 73],\n",
       " [61, 58, 56, 87, 97],\n",
       " [76, 76, 91, 58, 59],\n",
       " [76, 52, 82, 60, 79],\n",
       " [65, 81, 96, 98, 93],\n",
       " [70, 81, 77, 69, 50],\n",
       " [61, 71, 51, 60, 70],\n",
       " [62, 100, 99, 95, 94],\n",
       " [82, 96, 51, 95, 50]]"
      ]
     },
     "execution_count": 23,
     "metadata": {},
     "output_type": "execute_result"
    }
   ],
   "source": [
    "import random\n",
    "def get_score() -> list:  #隨機跑5個分數\n",
    "    score = []\n",
    "    for i in range(5):\n",
    "        score.append(random.randint(50,100))\n",
    "    return score\n",
    "\n",
    "students = []\n",
    "for i in range(50): \n",
    "    scores = get_score() #宣告一個新的變數 = 上面的函式\n",
    "    students.append(scores)\n",
    "\n",
    "students\n",
    "\n",
    "\n",
    "\n",
    "\n"
   ]
  }
 ],
 "metadata": {
  "kernelspec": {
   "display_name": "Python 3",
   "language": "python",
   "name": "python3"
  },
  "language_info": {
   "codemirror_mode": {
    "name": "ipython",
    "version": 3
   },
   "file_extension": ".py",
   "mimetype": "text/x-python",
   "name": "python",
   "nbconvert_exporter": "python",
   "pygments_lexer": "ipython3",
   "version": "3.10.11"
  },
  "orig_nbformat": 4
 },
 "nbformat": 4,
 "nbformat_minor": 2
}
