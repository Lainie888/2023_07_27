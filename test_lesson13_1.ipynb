{
 "cells": [
  {
   "cell_type": "code",
   "execution_count": 26,
   "metadata": {},
   "outputs": [],
   "source": [
    "class Student:\n",
    "    def __init__ (self,name:str, chinese:int, english:int, math:int): #類似初始化\n",
    "        self.name = name #self.name 建立屬性attribute\n",
    "        self.chinese = chinese\n",
    "        self.english = english\n",
    "        self.math = math\n",
    "\n",
    "    def total(self)->int:\n",
    "        return self.chinese + self.english + self.math \n",
    "\n",
    "    @property\n",
    "    def average(self)->float:\n",
    "        return self.total() / 3.0\n",
    "    \n",
    "    def __repr__(self):\n",
    "        return f\"我是student,我的name是{self.name}\""
   ]
  },
  {
   "cell_type": "code",
   "execution_count": 30,
   "metadata": {},
   "outputs": [
    {
     "data": {
      "text/plain": [
       "('Lainie', 89, 92, 72)"
      ]
     },
     "metadata": {},
     "output_type": "display_data"
    },
    {
     "data": {
      "text/plain": [
       "(253, 84.33333333333333)"
      ]
     },
     "metadata": {},
     "output_type": "display_data"
    },
    {
     "name": "stdout",
     "output_type": "stream",
     "text": [
      "我是student,我的name是Lainie\n"
     ]
    }
   ],
   "source": [
    "stu1 = Student(\"Lainie\", 89, 92, 72)\n",
    "display((stu1.name, stu1.chinese,  stu1.english, stu1.math))\n",
    "display((stu1.total(), stu1.average))\n",
    "print(stu1)"
   ]
  },
  {
   "cell_type": "code",
   "execution_count": 31,
   "metadata": {},
   "outputs": [
    {
     "data": {
      "text/plain": [
       "('wxxx', 95, 72, 91)"
      ]
     },
     "metadata": {},
     "output_type": "display_data"
    },
    {
     "data": {
      "text/plain": [
       "(258, 86.0)"
      ]
     },
     "metadata": {},
     "output_type": "display_data"
    },
    {
     "name": "stdout",
     "output_type": "stream",
     "text": [
      "我是student,我的name是wxxx\n"
     ]
    }
   ],
   "source": [
    "stu2 = Student(\"wxxx\", chinese=95, english=72, math=91)\n",
    "display((stu2.name, stu2.chinese, stu2.english, stu2.math))\n",
    "display((stu2.total(), stu2.average))\n",
    "print(stu2)"
   ]
  }
 ],
 "metadata": {
  "kernelspec": {
   "display_name": "Python 3",
   "language": "python",
   "name": "python3"
  },
  "language_info": {
   "codemirror_mode": {
    "name": "ipython",
    "version": 3
   },
   "file_extension": ".py",
   "mimetype": "text/x-python",
   "name": "python",
   "nbconvert_exporter": "python",
   "pygments_lexer": "ipython3",
   "version": "3.10.11"
  },
  "orig_nbformat": 4
 },
 "nbformat": 4,
 "nbformat_minor": 2
}
