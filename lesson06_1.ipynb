{
 "cells": [
  {
   "cell_type": "code",
   "execution_count": 2,
   "metadata": {},
   "outputs": [
    {
     "name": "stdout",
     "output_type": "stream",
     "text": [
      "1\n",
      "2\n",
      "3\n",
      "4\n",
      "5\n",
      "程式結束\n"
     ]
    }
   ],
   "source": [
    "#執行5次\n",
    "#印出1~5\n",
    "#while\n",
    "count = 1 #定義變數\n",
    "while count <=5: #比較(變數)運算子\n",
    "    print(count) #定義(改變變數的內容)規則\n",
    "    count+=1 #定義(改變變數的內容)規則\n",
    "\n",
    "print(\"程式結束\")"
   ]
  },
  {
   "cell_type": "code",
   "execution_count": 5,
   "metadata": {},
   "outputs": [
    {
     "name": "stdout",
     "output_type": "stream",
     "text": [
      "恭喜，你已經存夠錢買機車。你存了5個月，存款是32219\n"
     ]
    }
   ],
   "source": [
    "#小明想要存錢買一機車，每台機車30000元，他將每月存的錢輸入，當存款足夠買機車時，就顯示提示\n",
    "moto_price = 30000\n",
    "deposit = 0\n",
    "month = 0\n",
    "while deposit < 30000:\n",
    "    month+=1\n",
    "    save = int(input(f\"請輸入{month}個月的存款是:\"))\n",
    "    deposit += save\n",
    "\n",
    "print(f\"恭喜，你已經存夠錢買機車。你存了{month}個月，存款是{deposit}\")"
   ]
  },
  {
   "cell_type": "code",
   "execution_count": 6,
   "metadata": {},
   "outputs": [
    {
     "name": "stdout",
     "output_type": "stream",
     "text": [
      "恭喜，你已經存夠錢買機車。你存了1個月，存款是32000\n"
     ]
    }
   ],
   "source": [
    "moto_price = 30000\n",
    "deposit = 0\n",
    "month = 0\n",
    "while True:\n",
    "    month+=1\n",
    "    save = int(input(f\"請輸入{month}個月的存款是:\"))\n",
    "    deposit += save\n",
    "    if deposit >= 30000:\n",
    "        break\n",
    "\n",
    "print(f\"恭喜，你已經存夠錢買機車。你存了{month}個月，存款是{deposit}\")"
   ]
  },
  {
   "cell_type": "code",
   "execution_count": 9,
   "metadata": {},
   "outputs": [
    {
     "name": "stdout",
     "output_type": "stream",
     "text": [
      "輸入的次數是2，所有輸入的正偶數的加總是:10\n"
     ]
    }
   ],
   "source": [
    "sum = 0\n",
    "num = 0\n",
    "while True:\n",
    "    input_value = int(input(f\"請輸入第{num+1}個數值\"))\n",
    "    if input_value < 0:\n",
    "        break\n",
    "    num+=1\n",
    "    if input_value % 2 == 1:\n",
    "        continue\n",
    "    sum += input_value\n",
    "\n",
    "print(f\"輸入的次數是{num}，所有輸入的正偶數的加總是:{sum}\")"
   ]
  },
  {
   "cell_type": "code",
   "execution_count": 40,
   "metadata": {},
   "outputs": [
    {
     "data": {
      "text/plain": [
       "2"
      ]
     },
     "execution_count": 40,
     "metadata": {},
     "output_type": "execute_result"
    }
   ],
   "source": [
    "import random\n",
    "#0~4的亂數\n",
    "random.randrange(5)"
   ]
  },
  {
   "cell_type": "code",
   "execution_count": 14,
   "metadata": {},
   "outputs": [
    {
     "data": {
      "text/plain": [
       "3"
      ]
     },
     "execution_count": 14,
     "metadata": {},
     "output_type": "execute_result"
    }
   ],
   "source": [
    "import random\n",
    "#1~4的亂數\n",
    "random.randrange(1,5)\n"
   ]
  },
  {
   "cell_type": "code",
   "execution_count": 35,
   "metadata": {},
   "outputs": [],
   "source": [
    "#1~10的亂數\n",
    "random.randint(1,10) #包含1到包含10的亂數"
   ]
  },
  {
   "cell_type": "code",
   "execution_count": null,
   "metadata": {},
   "outputs": [],
   "source": []
  },
  {
   "cell_type": "code",
   "execution_count": null,
   "metadata": {},
   "outputs": [],
   "source": [
    "import random\n",
    "#0~4的亂數\n",
    "random.randrange(5)"
   ]
  },
  {
   "cell_type": "code",
   "execution_count": 6,
   "metadata": {},
   "outputs": [
    {
     "data": {
      "text/plain": [
       "3"
      ]
     },
     "execution_count": 6,
     "metadata": {},
     "output_type": "execute_result"
    }
   ],
   "source": [
    "random.randrange(3,5) #包含3，不包含5"
   ]
  },
  {
   "cell_type": "code",
   "execution_count": 8,
   "metadata": {},
   "outputs": [
    {
     "data": {
      "text/plain": [
       "8"
      ]
     },
     "execution_count": 8,
     "metadata": {},
     "output_type": "execute_result"
    }
   ],
   "source": [
    "random.randrange(1,10) #包含1，不包含10"
   ]
  },
  {
   "cell_type": "code",
   "execution_count": 13,
   "metadata": {},
   "outputs": [
    {
     "name": "stdout",
     "output_type": "stream",
     "text": [
      "=============猜數字遊戲============\n",
      "\n",
      "\n",
      "猜錯了\n",
      "你總共猜了1次\n",
      "猜錯了\n",
      "你總共猜了2次\n",
      "bingo.猜對了，答案是10\n",
      "你總共猜了3次\n",
      "GAME OVER!\n"
     ]
    }
   ],
   "source": [
    "import random\n",
    "min=1\n",
    "max =10\n",
    "target = random.randint(1,10) #宣告亂數的範圍是在1~10\n",
    "#random.randint(a, b)\n",
    "#回傳一個隨機整數 N，使得 a <= N <= b。為 randrange(a, b+1) 的別名。\n",
    "count = 0\n",
    "print(\"=============猜數字遊戲============\\n\\n\")\n",
    "while True:\n",
    "    keyin = int(input(f\"猜數字的範圍{min}~{max}:\"))\n",
    "    count += 1\n",
    "    if keyin >= min and keyin <= max:\n",
    "       if(keyin == target):\n",
    "           print(f\"bingo.猜對了，答案是{keyin}\")\n",
    "           print(f\"你總共猜了{count}次\")\n",
    "           break\n",
    "       else:\n",
    "        print(\"猜錯了\")\n",
    "        print(f\"你總共猜了{count}次\")\n",
    "    else:\n",
    "        print(\"超出範圍\")\n",
    "\n",
    "\n",
    "print(\"GAME OVER!\")"
   ]
  },
  {
   "cell_type": "code",
   "execution_count": 15,
   "metadata": {},
   "outputs": [
    {
     "name": "stdout",
     "output_type": "stream",
     "text": [
      "=============猜數字遊戲============\n",
      "\n",
      "\n",
      "再小一點\n",
      "你總共猜了1次\n",
      "再大一點\n",
      "你總共猜了2次\n",
      "再大一點\n",
      "你總共猜了3次\n",
      "超出範圍\n",
      "再小一點\n",
      "你總共猜了5次\n",
      "再大一點\n",
      "你總共猜了6次\n",
      "再小一點\n",
      "你總共猜了7次\n",
      "bingo.猜對了，答案是65\n",
      "你總共猜了8次\n",
      "GAME OVER!\n"
     ]
    }
   ],
   "source": [
    "import random\n",
    "min = 1\n",
    "max = 100\n",
    "target = random.randint(min,max) #宣告亂數的範圍是在1~100\n",
    "#random.randint(a, b)\n",
    "#回傳一個隨機整數 N，使得 a <= N <= b。為 randrange(a, b+1) 的別名。\n",
    "count = 0\n",
    "print(\"=============猜數字遊戲============\\n\\n\")\n",
    "while True:\n",
    "    keyin = int(input(f\"猜數字的範圍{min}~{max}:\"))\n",
    "    count += 1\n",
    "    if keyin >= min and keyin <= max:\n",
    "       if(keyin == target):\n",
    "           print(f\"bingo.猜對了，答案是{keyin}\")\n",
    "           print(f\"你總共猜了{count}次\")\n",
    "           break\n",
    "       elif(keyin > target):\n",
    "            print(\"再小一點\")\n",
    "            max = keyin - 1\n",
    "       elif(keyin < target):\n",
    "            print(\"再大一點\")\n",
    "            min = keyin + 1\n",
    "\n",
    "       print(f\"你總共猜了{count}次\")\n",
    "    else:\n",
    "        print(\"超出範圍\")\n",
    "\n",
    "\n",
    "print(\"GAME OVER!\")"
   ]
  },
  {
   "cell_type": "code",
   "execution_count": null,
   "metadata": {},
   "outputs": [],
   "source": []
  }
 ],
 "metadata": {
  "kernelspec": {
   "display_name": "Python 3",
   "language": "python",
   "name": "python3"
  },
  "language_info": {
   "codemirror_mode": {
    "name": "ipython",
    "version": 3
   },
   "file_extension": ".py",
   "mimetype": "text/x-python",
   "name": "python",
   "nbconvert_exporter": "python",
   "pygments_lexer": "ipython3",
   "version": "3.10.12"
  },
  "orig_nbformat": 4
 },
 "nbformat": 4,
 "nbformat_minor": 2
}
